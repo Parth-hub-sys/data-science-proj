{
 "cells": [
  {
   "cell_type": "code",
   "execution_count": 1,
   "id": "c97701b7",
   "metadata": {},
   "outputs": [],
   "source": [
    "import pandas as pd"
   ]
  },
  {
   "cell_type": "code",
   "execution_count": 2,
   "id": "914e2328",
   "metadata": {},
   "outputs": [],
   "source": [
    "X = pd.read_csv('./train.csv', index_col = 'Id')\n",
    "X_test = pd.read_csv('./test.csv', index_col = 'Id')"
   ]
  },
  {
   "cell_type": "code",
   "execution_count": 3,
   "id": "b937724c",
   "metadata": {},
   "outputs": [],
   "source": [
    "# remove rows wiht missing values\n",
    "X.dropna(axis = 0, subset=['SalePrice'], inplace=True)\n",
    "y = X['SalePrice']\n",
    "X.drop(columns=['SalePrice'], inplace=True)\n"
   ]
  },
  {
   "cell_type": "code",
   "execution_count": 4,
   "id": "c0bba373",
   "metadata": {},
   "outputs": [],
   "source": [
    "cols_with_missing = [cols  for cols in X.columns if X[cols].isnull().any()]\n",
    "X.drop(cols_with_missing,axis=1, inplace=True)\n",
    "X_test.drop(cols_with_missing, axis=1, inplace=True)"
   ]
  },
  {
   "cell_type": "code",
   "execution_count": 5,
   "id": "3bfb748f",
   "metadata": {},
   "outputs": [],
   "source": [
    "from sklearn.model_selection import train_test_split\n",
    "X_train,X_valid,y_train,y_valid = train_test_split(X,y,train_size=0.8,test_size=0.2,random_state=0)\n"
   ]
  },
  {
   "cell_type": "code",
   "execution_count": 6,
   "id": "433329db",
   "metadata": {},
   "outputs": [
    {
     "data": {
      "application/vnd.microsoft.datawrangler.viewer.v0+json": {
       "columns": [
        {
         "name": "Id",
         "rawType": "int64",
         "type": "integer"
        },
        {
         "name": "MSSubClass",
         "rawType": "int64",
         "type": "integer"
        },
        {
         "name": "MSZoning",
         "rawType": "object",
         "type": "string"
        },
        {
         "name": "LotArea",
         "rawType": "int64",
         "type": "integer"
        },
        {
         "name": "Street",
         "rawType": "object",
         "type": "string"
        },
        {
         "name": "LotShape",
         "rawType": "object",
         "type": "string"
        },
        {
         "name": "LandContour",
         "rawType": "object",
         "type": "string"
        },
        {
         "name": "Utilities",
         "rawType": "object",
         "type": "string"
        },
        {
         "name": "LotConfig",
         "rawType": "object",
         "type": "string"
        },
        {
         "name": "LandSlope",
         "rawType": "object",
         "type": "string"
        },
        {
         "name": "Neighborhood",
         "rawType": "object",
         "type": "string"
        },
        {
         "name": "Condition1",
         "rawType": "object",
         "type": "string"
        },
        {
         "name": "Condition2",
         "rawType": "object",
         "type": "string"
        },
        {
         "name": "BldgType",
         "rawType": "object",
         "type": "string"
        },
        {
         "name": "HouseStyle",
         "rawType": "object",
         "type": "string"
        },
        {
         "name": "OverallQual",
         "rawType": "int64",
         "type": "integer"
        },
        {
         "name": "OverallCond",
         "rawType": "int64",
         "type": "integer"
        },
        {
         "name": "YearBuilt",
         "rawType": "int64",
         "type": "integer"
        },
        {
         "name": "YearRemodAdd",
         "rawType": "int64",
         "type": "integer"
        },
        {
         "name": "RoofStyle",
         "rawType": "object",
         "type": "string"
        },
        {
         "name": "RoofMatl",
         "rawType": "object",
         "type": "string"
        },
        {
         "name": "Exterior1st",
         "rawType": "object",
         "type": "string"
        },
        {
         "name": "Exterior2nd",
         "rawType": "object",
         "type": "string"
        },
        {
         "name": "ExterQual",
         "rawType": "object",
         "type": "string"
        },
        {
         "name": "ExterCond",
         "rawType": "object",
         "type": "string"
        },
        {
         "name": "Foundation",
         "rawType": "object",
         "type": "string"
        },
        {
         "name": "BsmtFinSF1",
         "rawType": "int64",
         "type": "integer"
        },
        {
         "name": "BsmtFinSF2",
         "rawType": "int64",
         "type": "integer"
        },
        {
         "name": "BsmtUnfSF",
         "rawType": "int64",
         "type": "integer"
        },
        {
         "name": "TotalBsmtSF",
         "rawType": "int64",
         "type": "integer"
        },
        {
         "name": "Heating",
         "rawType": "object",
         "type": "string"
        },
        {
         "name": "HeatingQC",
         "rawType": "object",
         "type": "string"
        },
        {
         "name": "CentralAir",
         "rawType": "object",
         "type": "string"
        },
        {
         "name": "1stFlrSF",
         "rawType": "int64",
         "type": "integer"
        },
        {
         "name": "2ndFlrSF",
         "rawType": "int64",
         "type": "integer"
        },
        {
         "name": "LowQualFinSF",
         "rawType": "int64",
         "type": "integer"
        },
        {
         "name": "GrLivArea",
         "rawType": "int64",
         "type": "integer"
        },
        {
         "name": "BsmtFullBath",
         "rawType": "int64",
         "type": "integer"
        },
        {
         "name": "BsmtHalfBath",
         "rawType": "int64",
         "type": "integer"
        },
        {
         "name": "FullBath",
         "rawType": "int64",
         "type": "integer"
        },
        {
         "name": "HalfBath",
         "rawType": "int64",
         "type": "integer"
        },
        {
         "name": "BedroomAbvGr",
         "rawType": "int64",
         "type": "integer"
        },
        {
         "name": "KitchenAbvGr",
         "rawType": "int64",
         "type": "integer"
        },
        {
         "name": "KitchenQual",
         "rawType": "object",
         "type": "string"
        },
        {
         "name": "TotRmsAbvGrd",
         "rawType": "int64",
         "type": "integer"
        },
        {
         "name": "Functional",
         "rawType": "object",
         "type": "string"
        },
        {
         "name": "Fireplaces",
         "rawType": "int64",
         "type": "integer"
        },
        {
         "name": "GarageCars",
         "rawType": "int64",
         "type": "integer"
        },
        {
         "name": "GarageArea",
         "rawType": "int64",
         "type": "integer"
        },
        {
         "name": "PavedDrive",
         "rawType": "object",
         "type": "string"
        },
        {
         "name": "WoodDeckSF",
         "rawType": "int64",
         "type": "integer"
        },
        {
         "name": "OpenPorchSF",
         "rawType": "int64",
         "type": "integer"
        },
        {
         "name": "EnclosedPorch",
         "rawType": "int64",
         "type": "integer"
        },
        {
         "name": "3SsnPorch",
         "rawType": "int64",
         "type": "integer"
        },
        {
         "name": "ScreenPorch",
         "rawType": "int64",
         "type": "integer"
        },
        {
         "name": "PoolArea",
         "rawType": "int64",
         "type": "integer"
        },
        {
         "name": "MiscVal",
         "rawType": "int64",
         "type": "integer"
        },
        {
         "name": "MoSold",
         "rawType": "int64",
         "type": "integer"
        },
        {
         "name": "YrSold",
         "rawType": "int64",
         "type": "integer"
        },
        {
         "name": "SaleType",
         "rawType": "object",
         "type": "string"
        },
        {
         "name": "SaleCondition",
         "rawType": "object",
         "type": "string"
        }
       ],
       "ref": "2b10aa4c-f92b-408c-a371-8bb2e6184bb7",
       "rows": [
        [
         "619",
         "20",
         "RL",
         "11694",
         "Pave",
         "Reg",
         "Lvl",
         "AllPub",
         "Inside",
         "Gtl",
         "NridgHt",
         "Norm",
         "Norm",
         "1Fam",
         "1Story",
         "9",
         "5",
         "2007",
         "2007",
         "Hip",
         "CompShg",
         "CemntBd",
         "CmentBd",
         "Ex",
         "TA",
         "PConc",
         "48",
         "0",
         "1774",
         "1822",
         "GasA",
         "Ex",
         "Y",
         "1828",
         "0",
         "0",
         "1828",
         "0",
         "0",
         "2",
         "0",
         "3",
         "1",
         "Gd",
         "9",
         "Typ",
         "1",
         "3",
         "774",
         "Y",
         "0",
         "108",
         "0",
         "0",
         "260",
         "0",
         "0",
         "7",
         "2007",
         "New",
         "Partial"
        ],
        [
         "871",
         "20",
         "RL",
         "6600",
         "Pave",
         "Reg",
         "Lvl",
         "AllPub",
         "Inside",
         "Gtl",
         "NAmes",
         "PosN",
         "Norm",
         "1Fam",
         "1Story",
         "5",
         "5",
         "1962",
         "1962",
         "Hip",
         "CompShg",
         "MetalSd",
         "MetalSd",
         "TA",
         "TA",
         "CBlock",
         "0",
         "0",
         "894",
         "894",
         "GasA",
         "Gd",
         "N",
         "894",
         "0",
         "0",
         "894",
         "0",
         "0",
         "1",
         "0",
         "2",
         "1",
         "TA",
         "5",
         "Typ",
         "0",
         "1",
         "308",
         "Y",
         "0",
         "0",
         "0",
         "0",
         "0",
         "0",
         "0",
         "8",
         "2009",
         "WD",
         "Normal"
        ],
        [
         "93",
         "30",
         "RL",
         "13360",
         "Pave",
         "IR1",
         "HLS",
         "AllPub",
         "Inside",
         "Gtl",
         "Crawfor",
         "Norm",
         "Norm",
         "1Fam",
         "1Story",
         "5",
         "7",
         "1921",
         "2006",
         "Gable",
         "CompShg",
         "Wd Sdng",
         "Wd Sdng",
         "TA",
         "Gd",
         "BrkTil",
         "713",
         "0",
         "163",
         "876",
         "GasA",
         "Ex",
         "Y",
         "964",
         "0",
         "0",
         "964",
         "1",
         "0",
         "1",
         "0",
         "2",
         "1",
         "TA",
         "5",
         "Typ",
         "0",
         "2",
         "432",
         "Y",
         "0",
         "0",
         "44",
         "0",
         "0",
         "0",
         "0",
         "8",
         "2009",
         "WD",
         "Normal"
        ],
        [
         "818",
         "20",
         "RL",
         "13265",
         "Pave",
         "IR1",
         "Lvl",
         "AllPub",
         "CulDSac",
         "Gtl",
         "Mitchel",
         "Norm",
         "Norm",
         "1Fam",
         "1Story",
         "8",
         "5",
         "2002",
         "2002",
         "Hip",
         "CompShg",
         "CemntBd",
         "CmentBd",
         "Gd",
         "TA",
         "PConc",
         "1218",
         "0",
         "350",
         "1568",
         "GasA",
         "Ex",
         "Y",
         "1689",
         "0",
         "0",
         "1689",
         "1",
         "0",
         "2",
         "0",
         "3",
         "1",
         "Gd",
         "7",
         "Typ",
         "2",
         "3",
         "857",
         "Y",
         "150",
         "59",
         "0",
         "0",
         "0",
         "0",
         "0",
         "7",
         "2008",
         "WD",
         "Normal"
        ],
        [
         "303",
         "20",
         "RL",
         "13704",
         "Pave",
         "IR1",
         "Lvl",
         "AllPub",
         "Corner",
         "Gtl",
         "CollgCr",
         "Norm",
         "Norm",
         "1Fam",
         "1Story",
         "7",
         "5",
         "2001",
         "2002",
         "Gable",
         "CompShg",
         "VinylSd",
         "VinylSd",
         "Gd",
         "TA",
         "PConc",
         "0",
         "0",
         "1541",
         "1541",
         "GasA",
         "Ex",
         "Y",
         "1541",
         "0",
         "0",
         "1541",
         "0",
         "0",
         "2",
         "0",
         "3",
         "1",
         "Gd",
         "6",
         "Typ",
         "1",
         "3",
         "843",
         "Y",
         "468",
         "81",
         "0",
         "0",
         "0",
         "0",
         "0",
         "1",
         "2006",
         "WD",
         "Normal"
        ]
       ],
       "shape": {
        "columns": 60,
        "rows": 5
       }
      },
      "text/html": [
       "<div>\n",
       "<style scoped>\n",
       "    .dataframe tbody tr th:only-of-type {\n",
       "        vertical-align: middle;\n",
       "    }\n",
       "\n",
       "    .dataframe tbody tr th {\n",
       "        vertical-align: top;\n",
       "    }\n",
       "\n",
       "    .dataframe thead th {\n",
       "        text-align: right;\n",
       "    }\n",
       "</style>\n",
       "<table border=\"1\" class=\"dataframe\">\n",
       "  <thead>\n",
       "    <tr style=\"text-align: right;\">\n",
       "      <th></th>\n",
       "      <th>MSSubClass</th>\n",
       "      <th>MSZoning</th>\n",
       "      <th>LotArea</th>\n",
       "      <th>Street</th>\n",
       "      <th>LotShape</th>\n",
       "      <th>LandContour</th>\n",
       "      <th>Utilities</th>\n",
       "      <th>LotConfig</th>\n",
       "      <th>LandSlope</th>\n",
       "      <th>Neighborhood</th>\n",
       "      <th>...</th>\n",
       "      <th>OpenPorchSF</th>\n",
       "      <th>EnclosedPorch</th>\n",
       "      <th>3SsnPorch</th>\n",
       "      <th>ScreenPorch</th>\n",
       "      <th>PoolArea</th>\n",
       "      <th>MiscVal</th>\n",
       "      <th>MoSold</th>\n",
       "      <th>YrSold</th>\n",
       "      <th>SaleType</th>\n",
       "      <th>SaleCondition</th>\n",
       "    </tr>\n",
       "    <tr>\n",
       "      <th>Id</th>\n",
       "      <th></th>\n",
       "      <th></th>\n",
       "      <th></th>\n",
       "      <th></th>\n",
       "      <th></th>\n",
       "      <th></th>\n",
       "      <th></th>\n",
       "      <th></th>\n",
       "      <th></th>\n",
       "      <th></th>\n",
       "      <th></th>\n",
       "      <th></th>\n",
       "      <th></th>\n",
       "      <th></th>\n",
       "      <th></th>\n",
       "      <th></th>\n",
       "      <th></th>\n",
       "      <th></th>\n",
       "      <th></th>\n",
       "      <th></th>\n",
       "      <th></th>\n",
       "    </tr>\n",
       "  </thead>\n",
       "  <tbody>\n",
       "    <tr>\n",
       "      <th>619</th>\n",
       "      <td>20</td>\n",
       "      <td>RL</td>\n",
       "      <td>11694</td>\n",
       "      <td>Pave</td>\n",
       "      <td>Reg</td>\n",
       "      <td>Lvl</td>\n",
       "      <td>AllPub</td>\n",
       "      <td>Inside</td>\n",
       "      <td>Gtl</td>\n",
       "      <td>NridgHt</td>\n",
       "      <td>...</td>\n",
       "      <td>108</td>\n",
       "      <td>0</td>\n",
       "      <td>0</td>\n",
       "      <td>260</td>\n",
       "      <td>0</td>\n",
       "      <td>0</td>\n",
       "      <td>7</td>\n",
       "      <td>2007</td>\n",
       "      <td>New</td>\n",
       "      <td>Partial</td>\n",
       "    </tr>\n",
       "    <tr>\n",
       "      <th>871</th>\n",
       "      <td>20</td>\n",
       "      <td>RL</td>\n",
       "      <td>6600</td>\n",
       "      <td>Pave</td>\n",
       "      <td>Reg</td>\n",
       "      <td>Lvl</td>\n",
       "      <td>AllPub</td>\n",
       "      <td>Inside</td>\n",
       "      <td>Gtl</td>\n",
       "      <td>NAmes</td>\n",
       "      <td>...</td>\n",
       "      <td>0</td>\n",
       "      <td>0</td>\n",
       "      <td>0</td>\n",
       "      <td>0</td>\n",
       "      <td>0</td>\n",
       "      <td>0</td>\n",
       "      <td>8</td>\n",
       "      <td>2009</td>\n",
       "      <td>WD</td>\n",
       "      <td>Normal</td>\n",
       "    </tr>\n",
       "    <tr>\n",
       "      <th>93</th>\n",
       "      <td>30</td>\n",
       "      <td>RL</td>\n",
       "      <td>13360</td>\n",
       "      <td>Pave</td>\n",
       "      <td>IR1</td>\n",
       "      <td>HLS</td>\n",
       "      <td>AllPub</td>\n",
       "      <td>Inside</td>\n",
       "      <td>Gtl</td>\n",
       "      <td>Crawfor</td>\n",
       "      <td>...</td>\n",
       "      <td>0</td>\n",
       "      <td>44</td>\n",
       "      <td>0</td>\n",
       "      <td>0</td>\n",
       "      <td>0</td>\n",
       "      <td>0</td>\n",
       "      <td>8</td>\n",
       "      <td>2009</td>\n",
       "      <td>WD</td>\n",
       "      <td>Normal</td>\n",
       "    </tr>\n",
       "    <tr>\n",
       "      <th>818</th>\n",
       "      <td>20</td>\n",
       "      <td>RL</td>\n",
       "      <td>13265</td>\n",
       "      <td>Pave</td>\n",
       "      <td>IR1</td>\n",
       "      <td>Lvl</td>\n",
       "      <td>AllPub</td>\n",
       "      <td>CulDSac</td>\n",
       "      <td>Gtl</td>\n",
       "      <td>Mitchel</td>\n",
       "      <td>...</td>\n",
       "      <td>59</td>\n",
       "      <td>0</td>\n",
       "      <td>0</td>\n",
       "      <td>0</td>\n",
       "      <td>0</td>\n",
       "      <td>0</td>\n",
       "      <td>7</td>\n",
       "      <td>2008</td>\n",
       "      <td>WD</td>\n",
       "      <td>Normal</td>\n",
       "    </tr>\n",
       "    <tr>\n",
       "      <th>303</th>\n",
       "      <td>20</td>\n",
       "      <td>RL</td>\n",
       "      <td>13704</td>\n",
       "      <td>Pave</td>\n",
       "      <td>IR1</td>\n",
       "      <td>Lvl</td>\n",
       "      <td>AllPub</td>\n",
       "      <td>Corner</td>\n",
       "      <td>Gtl</td>\n",
       "      <td>CollgCr</td>\n",
       "      <td>...</td>\n",
       "      <td>81</td>\n",
       "      <td>0</td>\n",
       "      <td>0</td>\n",
       "      <td>0</td>\n",
       "      <td>0</td>\n",
       "      <td>0</td>\n",
       "      <td>1</td>\n",
       "      <td>2006</td>\n",
       "      <td>WD</td>\n",
       "      <td>Normal</td>\n",
       "    </tr>\n",
       "  </tbody>\n",
       "</table>\n",
       "<p>5 rows × 60 columns</p>\n",
       "</div>"
      ],
      "text/plain": [
       "     MSSubClass MSZoning  LotArea Street LotShape LandContour Utilities  \\\n",
       "Id                                                                        \n",
       "619          20       RL    11694   Pave      Reg         Lvl    AllPub   \n",
       "871          20       RL     6600   Pave      Reg         Lvl    AllPub   \n",
       "93           30       RL    13360   Pave      IR1         HLS    AllPub   \n",
       "818          20       RL    13265   Pave      IR1         Lvl    AllPub   \n",
       "303          20       RL    13704   Pave      IR1         Lvl    AllPub   \n",
       "\n",
       "    LotConfig LandSlope Neighborhood  ... OpenPorchSF EnclosedPorch 3SsnPorch  \\\n",
       "Id                                    ...                                       \n",
       "619    Inside       Gtl      NridgHt  ...         108             0         0   \n",
       "871    Inside       Gtl        NAmes  ...           0             0         0   \n",
       "93     Inside       Gtl      Crawfor  ...           0            44         0   \n",
       "818   CulDSac       Gtl      Mitchel  ...          59             0         0   \n",
       "303    Corner       Gtl      CollgCr  ...          81             0         0   \n",
       "\n",
       "    ScreenPorch  PoolArea  MiscVal  MoSold  YrSold SaleType SaleCondition  \n",
       "Id                                                                         \n",
       "619         260         0        0       7    2007      New       Partial  \n",
       "871           0         0        0       8    2009       WD        Normal  \n",
       "93            0         0        0       8    2009       WD        Normal  \n",
       "818           0         0        0       7    2008       WD        Normal  \n",
       "303           0         0        0       1    2006       WD        Normal  \n",
       "\n",
       "[5 rows x 60 columns]"
      ]
     },
     "execution_count": 6,
     "metadata": {},
     "output_type": "execute_result"
    }
   ],
   "source": [
    "X_train.head()"
   ]
  },
  {
   "cell_type": "code",
   "execution_count": 7,
   "id": "90c710c3",
   "metadata": {},
   "outputs": [
    {
     "data": {
      "application/vnd.microsoft.datawrangler.viewer.v0+json": {
       "columns": [
        {
         "name": "Id",
         "rawType": "int64",
         "type": "integer"
        },
        {
         "name": "SalePrice",
         "rawType": "int64",
         "type": "integer"
        }
       ],
       "ref": "0e3ccc74-9fc0-4e25-b81a-2e41224190f2",
       "rows": [
        [
         "619",
         "314813"
        ],
        [
         "871",
         "109500"
        ],
        [
         "93",
         "163500"
        ],
        [
         "818",
         "271000"
        ],
        [
         "303",
         "205000"
        ]
       ],
       "shape": {
        "columns": 1,
        "rows": 5
       }
      },
      "text/plain": [
       "Id\n",
       "619    314813\n",
       "871    109500\n",
       "93     163500\n",
       "818    271000\n",
       "303    205000\n",
       "Name: SalePrice, dtype: int64"
      ]
     },
     "execution_count": 7,
     "metadata": {},
     "output_type": "execute_result"
    }
   ],
   "source": [
    "y_train.head()"
   ]
  },
  {
   "cell_type": "code",
   "execution_count": 8,
   "id": "671122cc",
   "metadata": {},
   "outputs": [],
   "source": [
    "from sklearn.ensemble import RandomForestRegressor\n",
    "from sklearn.metrics import mean_absolute_error\n",
    "\n",
    "def score_dataset(X_train,X_valid,y_train,y_valid):\n",
    "    model = RandomForestRegressor(n_estimators=100,random_state=0)\n",
    "    model.fit(X_train,y_train)\n",
    "    preds = model.predict(X_valid)\n",
    "    return mean_absolute_error(y_valid,preds)"
   ]
  },
  {
   "cell_type": "code",
   "execution_count": 9,
   "id": "8c752bf0",
   "metadata": {},
   "outputs": [],
   "source": [
    "### Drop columns with categorical data "
   ]
  },
  {
   "cell_type": "code",
   "execution_count": 9,
   "id": "92982234",
   "metadata": {},
   "outputs": [],
   "source": [
    "drop_X_train = X_train.select_dtypes(exclude=['object'])\n",
    "drop_X_valid = X_valid.select_dtypes(exclude=['object'])\n"
   ]
  },
  {
   "cell_type": "code",
   "execution_count": 10,
   "id": "2ed04099",
   "metadata": {},
   "outputs": [
    {
     "name": "stdout",
     "output_type": "stream",
     "text": [
      "MAE from drop columns with categorical data: \n",
      "17837.82570776256\n"
     ]
    }
   ],
   "source": [
    "print(\"MAE from drop columns with categorical data: \")\n",
    "print(score_dataset(drop_X_train,drop_X_valid,y_train,y_valid))"
   ]
  },
  {
   "cell_type": "code",
   "execution_count": 12,
   "id": "897990a3",
   "metadata": {},
   "outputs": [],
   "source": [
    "### cheak a condition2 columns with categorical data"
   ]
  },
  {
   "cell_type": "code",
   "execution_count": 11,
   "id": "49c0b9ff",
   "metadata": {},
   "outputs": [
    {
     "name": "stdout",
     "output_type": "stream",
     "text": [
      "unique values in training data condition2:  ['Norm' 'PosA' 'Feedr' 'PosN' 'Artery' 'RRAe']\n",
      "unique values in validation data condition2:  ['Norm' 'RRAn' 'RRNn' 'Artery' 'Feedr' 'PosN']\n"
     ]
    }
   ],
   "source": [
    "print(\"unique values in training data condition2: \",X_train['Condition2'].unique())\n",
    "print(\"unique values in validation data condition2: \",X_valid['Condition2'].unique())"
   ]
  },
  {
   "cell_type": "code",
   "execution_count": 12,
   "id": "f9eec9ea",
   "metadata": {},
   "outputs": [
    {
     "name": "stdout",
     "output_type": "stream",
     "text": [
      "Categorical columns:  ['MSZoning', 'Street', 'LotShape', 'LandContour', 'Utilities', 'LotConfig', 'LandSlope', 'Neighborhood', 'Condition1', 'Condition2', 'BldgType', 'HouseStyle', 'RoofStyle', 'RoofMatl', 'Exterior1st', 'Exterior2nd', 'ExterQual', 'ExterCond', 'Foundation', 'Heating', 'HeatingQC', 'CentralAir', 'KitchenQual', 'Functional', 'PavedDrive', 'SaleType', 'SaleCondition']\n",
      "Number of categorical columns:  27\n"
     ]
    }
   ],
   "source": [
    "object_cols = [cols for cols in X_train.columns if X_train[cols].dtype == 'object']\n",
    "\n",
    "print(\"Categorical columns: \", object_cols)\n",
    "print(\"Number of categorical columns: \", len(object_cols))"
   ]
  },
  {
   "cell_type": "code",
   "execution_count": 13,
   "id": "8f65822f",
   "metadata": {},
   "outputs": [
    {
     "name": "stdout",
     "output_type": "stream",
     "text": [
      "Good label columns:  ['MSZoning', 'Street', 'LotShape', 'LandContour', 'Utilities', 'LotConfig', 'LandSlope', 'Neighborhood', 'Condition1', 'BldgType', 'HouseStyle', 'RoofStyle', 'Exterior1st', 'Exterior2nd', 'ExterQual', 'ExterCond', 'Foundation', 'Heating', 'HeatingQC', 'CentralAir', 'KitchenQual', 'PavedDrive', 'SaleType', 'SaleCondition']\n",
      "Number of good label columns:  24\n"
     ]
    }
   ],
   "source": [
    "good_label_cols = [cols for cols in object_cols\n",
    "                    if \n",
    "                    set(X_valid[cols]).issubset(set(X_train[cols]))]\n",
    "print(\"Good label columns: \", good_label_cols)\n",
    "print(\"Number of good label columns: \", len(good_label_cols))"
   ]
  },
  {
   "cell_type": "code",
   "execution_count": 14,
   "id": "1ae0b099",
   "metadata": {},
   "outputs": [
    {
     "name": "stdout",
     "output_type": "stream",
     "text": [
      "Bad label columns:  ['Functional', 'Condition2', 'RoofMatl']\n",
      "Number of bad label columns:  3\n"
     ]
    }
   ],
   "source": [
    "bad_label_cols = list(set(object_cols) - set(good_label_cols))\n",
    "print(\"Bad label columns: \", bad_label_cols)\n",
    "print(\"Number of bad label columns: \", len(bad_label_cols))"
   ]
  },
  {
   "cell_type": "code",
   "execution_count": 15,
   "id": "72457d15",
   "metadata": {},
   "outputs": [
    {
     "name": "stdout",
     "output_type": "stream",
     "text": [
      "categorical ordinal columns ['MSZoning', 'Street', 'LotShape', 'LandContour', 'Utilities', 'LotConfig', 'LandSlope', 'Neighborhood', 'Condition1', 'BldgType', 'HouseStyle', 'RoofStyle', 'Exterior1st', 'Exterior2nd', 'ExterQual', 'ExterCond', 'Foundation', 'Heating', 'HeatingQC', 'CentralAir', 'KitchenQual', 'PavedDrive', 'SaleType', 'SaleCondition']\n"
     ]
    }
   ],
   "source": [
    "print(\"categorical ordinal columns\", good_label_cols)"
   ]
  },
  {
   "cell_type": "code",
   "execution_count": 16,
   "id": "6b47f099",
   "metadata": {},
   "outputs": [
    {
     "name": "stdout",
     "output_type": "stream",
     "text": [
      "MAE from label encoding categorical data: \n",
      "17098.01649543379\n"
     ]
    }
   ],
   "source": [
    "from sklearn.preprocessing import OrdinalEncoder\n",
    "\n",
    "label_X_train = X_train.drop(bad_label_cols, axis=1)\n",
    "label_X_valid = X_valid.drop(bad_label_cols, axis=1)\n",
    "\n",
    "ordinal_encoder = OrdinalEncoder()\n",
    "label_X_train[good_label_cols] = ordinal_encoder.fit_transform(label_X_train[good_label_cols])\n",
    "label_X_valid[good_label_cols] = ordinal_encoder.transform(label_X_valid[good_label_cols])\n",
    "\n",
    "print(\"MAE from label encoding categorical data: \")\n",
    "print(score_dataset(label_X_train, label_X_valid, y_train, y_valid))"
   ]
  },
  {
   "cell_type": "code",
   "execution_count": 19,
   "id": "4e3404c4",
   "metadata": {},
   "outputs": [
    {
     "name": "stdout",
     "output_type": "stream",
     "text": [
      "Model saved as model.pkl\n"
     ]
    }
   ],
   "source": [
    "import joblib\n",
    "\n",
    "# After training your model\n",
    "model = RandomForestRegressor(n_estimators=100, random_state=0)\n",
    "model.fit(label_X_train, y_train)\n",
    "\n",
    "# Save the model to a file\n",
    "joblib.dump(model, 'model.pkl')\n",
    "print(\"Model saved as model.pkl\")"
   ]
  },
  {
   "cell_type": "code",
   "execution_count": null,
   "id": "4ef86f0b",
   "metadata": {},
   "outputs": [],
   "source": []
  }
 ],
 "metadata": {
  "kernelspec": {
   "display_name": "Python 3",
   "language": "python",
   "name": "python3"
  },
  "language_info": {
   "codemirror_mode": {
    "name": "ipython",
    "version": 3
   },
   "file_extension": ".py",
   "mimetype": "text/x-python",
   "name": "python",
   "nbconvert_exporter": "python",
   "pygments_lexer": "ipython3",
   "version": "3.11.9"
  }
 },
 "nbformat": 4,
 "nbformat_minor": 5
}
