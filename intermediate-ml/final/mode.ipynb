{
 "cells": [
  {
   "cell_type": "code",
   "execution_count": 1,
   "id": "9c8efc77",
   "metadata": {},
   "outputs": [],
   "source": [
    "import pandas as pd\n",
    "import numpy as np\n"
   ]
  },
  {
   "cell_type": "code",
   "execution_count": 3,
   "id": "eac38405",
   "metadata": {},
   "outputs": [
    {
     "name": "stdout",
     "output_type": "stream",
     "text": [
      "Mean Absolute Error: 17840.49\n"
     ]
    }
   ],
   "source": [
    "import pandas as pd\n",
    "from sklearn.model_selection import train_test_split\n",
    "from sklearn.metrics import mean_absolute_error\n",
    "from sklearn.preprocessing import LabelEncoder\n",
    "from xgboost import XGBRegressor\n",
    "\n",
    "# Load your dataset\n",
    "df = pd.read_csv(\"./train.csv\")\n",
    "\n",
    "# Drop columns with too many missing values\n",
    "missing_threshold = 0.3\n",
    "df = df.drop(columns=df.columns[df.isnull().mean() > missing_threshold])\n",
    "\n",
    "# Keep only important features\n",
    "important_features = [\n",
    "    'OverallQual', 'GrLivArea', 'GarageCars', 'GarageArea', 'TotalBsmtSF',\n",
    "    'FullBath', 'YearBuilt', 'YearRemodAdd', 'Fireplaces', 'LotArea',\n",
    "    '1stFlrSF', 'TotRmsAbvGrd', 'MasVnrArea', 'BsmtFinSF1',\n",
    "    'Neighborhood', 'ExterQual', 'KitchenQual', 'GarageType', 'GarageFinish',\n",
    "    'SalePrice'\n",
    "]\n",
    "df = df[[col for col in important_features if col in df.columns]]\n",
    "\n",
    "# Label encode categorical columns\n",
    "label_cols = df.select_dtypes(include='object').columns\n",
    "for col in label_cols:\n",
    "    df[col] = LabelEncoder().fit_transform(df[col].astype(str))\n",
    "\n",
    "# Split features and target\n",
    "X = df.drop(\"SalePrice\", axis=1)\n",
    "y = df[\"SalePrice\"]\n",
    "\n",
    "# Train/test split\n",
    "X_train, X_test, y_train, y_test = train_test_split(X, y, test_size=0.2, random_state=42)\n",
    "\n",
    "# Train XGBoost\n",
    "model = XGBRegressor(n_estimators=100, learning_rate=0.1, max_depth=3, random_state=42)\n",
    "model.fit(X_train, y_train)\n",
    "\n",
    "# Evaluate\n",
    "y_pred = model.predict(X_test)\n",
    "mae = mean_absolute_error(y_test, y_pred)\n",
    "print(f\"Mean Absolute Error: {mae:.2f}\")\n"
   ]
  },
  {
   "cell_type": "code",
   "execution_count": 4,
   "id": "efeccc3b",
   "metadata": {},
   "outputs": [
    {
     "data": {
      "text/plain": [
       "17840.491411601026"
      ]
     },
     "execution_count": 4,
     "metadata": {},
     "output_type": "execute_result"
    }
   ],
   "source": [
    "# Retry with faster training settings\n",
    "model_fast = XGBRegressor(n_estimators=100, learning_rate=0.1, max_depth=3, random_state=42)\n",
    "model_fast.fit(X_train, y_train)\n",
    "\n",
    "# Predict and evaluate\n",
    "y_pred_fast = model_fast.predict(X_test)\n",
    "mae_fast = mean_absolute_error(y_test, y_pred_fast)\n",
    "mae_fast\n"
   ]
  },
  {
   "cell_type": "code",
   "execution_count": 7,
   "id": "a8818875",
   "metadata": {},
   "outputs": [
    {
     "name": "stderr",
     "output_type": "stream",
     "text": [
      "c:\\Users\\91972\\anaconda3\\Lib\\site-packages\\keras\\src\\layers\\core\\dense.py:87: UserWarning: Do not pass an `input_shape`/`input_dim` argument to a layer. When using Sequential models, prefer using an `Input(shape)` object as the first layer in the model instead.\n",
      "  super().__init__(activity_regularizer=activity_regularizer, **kwargs)\n"
     ]
    },
    {
     "name": "stdout",
     "output_type": "stream",
     "text": [
      "\u001b[1m10/10\u001b[0m \u001b[32m━━━━━━━━━━━━━━━━━━━━\u001b[0m\u001b[37m\u001b[0m \u001b[1m0s\u001b[0m 6ms/step \n",
      "MAE with TensorFlow: 59549.66\n"
     ]
    }
   ],
   "source": [
    "import pandas as pd\n",
    "import numpy as np\n",
    "from sklearn.model_selection import train_test_split\n",
    "from sklearn.preprocessing import LabelEncoder, StandardScaler\n",
    "from sklearn.metrics import mean_absolute_error\n",
    "import tensorflow as tf\n",
    "from tensorflow.keras import layers, models, callbacks\n",
    "\n",
    "# Load data\n",
    "df = pd.read_csv(\"./train.csv\")\n",
    "\n",
    "# Drop columns with too many missing values\n",
    "df = df.drop(columns=df.columns[df.isnull().mean() > 0.3])\n",
    "\n",
    "# Select relevant columns\n",
    "features = [\n",
    "    'OverallQual', 'GrLivArea', 'GarageCars', 'GarageArea', 'TotalBsmtSF',\n",
    "    'FullBath', 'YearBuilt', 'YearRemodAdd', 'Fireplaces', 'LotArea',\n",
    "    '1stFlrSF', 'TotRmsAbvGrd', 'MasVnrArea', 'BsmtFinSF1',\n",
    "    'Neighborhood', 'ExterQual', 'KitchenQual', 'GarageType', 'GarageFinish',\n",
    "    'SalePrice'\n",
    "]\n",
    "df = df[[col for col in features if col in df.columns]]\n",
    "\n",
    "# Encode categorical features\n",
    "for col in df.select_dtypes(include='object').columns:\n",
    "    df[col] = LabelEncoder().fit_transform(df[col].astype(str))\n",
    "\n",
    "# Split into features and target\n",
    "X = df.drop(\"SalePrice\", axis=1)\n",
    "y = df[\"SalePrice\"]\n",
    "\n",
    "# Normalize numeric features\n",
    "scaler = StandardScaler()\n",
    "X_scaled = scaler.fit_transform(X)\n",
    "\n",
    "# Train/test split\n",
    "X_train, X_test, y_train, y_test = train_test_split(X_scaled, y, test_size=0.2, random_state=42)\n",
    "\n",
    "# Build model\n",
    "model = models.Sequential([\n",
    "    layers.Dense(128, activation='relu', input_shape=(X_train.shape[1],)),\n",
    "    layers.Dropout(0.1),\n",
    "    layers.Dense(128, activation='relu'),\n",
    "    layers.Dropout(0.1),\n",
    "    layers.Dense(128, activation='relu'),\n",
    "    layers.Dense(1)\n",
    "])\n",
    "\n",
    "# Compile model\n",
    "model.compile(optimizer='adam', loss='mae')\n",
    "\n",
    "# Early stopping\n",
    "early_stop = callbacks.EarlyStopping(monitor='val_loss', patience=10, restore_best_weights=True)\n",
    "\n",
    "# Train model\n",
    "history = model.fit(\n",
    "    X_train, y_train,\n",
    "    validation_split=0.2,\n",
    "    epochs=200,\n",
    "    batch_size=32,\n",
    "    callbacks=[early_stop],\n",
    "    verbose=0\n",
    ")\n",
    "\n",
    "# Predict and evaluate\n",
    "y_pred = model.predict(X_test).flatten()\n",
    "mae = mean_absolute_error(y_test, y_pred)\n",
    "print(f\"MAE with TensorFlow: {mae:.2f}\")\n"
   ]
  },
  {
   "cell_type": "code",
   "execution_count": 1,
   "id": "de3df5c7",
   "metadata": {},
   "outputs": [
    {
     "name": "stdout",
     "output_type": "stream",
     "text": [
      "0:\tlearn: 74955.4669979\ttotal: 140ms\tremaining: 2m 20s\n",
      "100:\tlearn: 26619.7213692\ttotal: 213ms\tremaining: 1.89s\n",
      "200:\tlearn: 21600.6195556\ttotal: 273ms\tremaining: 1.08s\n",
      "300:\tlearn: 19224.6348216\ttotal: 331ms\tremaining: 769ms\n",
      "400:\tlearn: 17800.9779039\ttotal: 392ms\tremaining: 586ms\n",
      "500:\tlearn: 16748.5601501\ttotal: 452ms\tremaining: 451ms\n",
      "600:\tlearn: 15841.7439678\ttotal: 522ms\tremaining: 347ms\n",
      "700:\tlearn: 15038.9391300\ttotal: 593ms\tremaining: 253ms\n",
      "800:\tlearn: 14394.7101044\ttotal: 655ms\tremaining: 163ms\n",
      "900:\tlearn: 13820.6543679\ttotal: 712ms\tremaining: 78.3ms\n",
      "999:\tlearn: 13314.3778143\ttotal: 767ms\tremaining: 0us\n",
      "MAE using CatBoost: 16533.41\n"
     ]
    }
   ],
   "source": [
    "import pandas as pd\n",
    "from catboost import CatBoostRegressor\n",
    "from sklearn.model_selection import train_test_split\n",
    "from sklearn.preprocessing import LabelEncoder\n",
    "from sklearn.metrics import mean_absolute_error\n",
    "\n",
    "# Load data\n",
    "df = pd.read_csv(\"./train.csv\")\n",
    "\n",
    "# Drop columns with >30% missing values\n",
    "df = df.drop(columns=df.columns[df.isnull().mean() > 0.3])\n",
    "\n",
    "# Select important features\n",
    "features = [\n",
    "    'OverallQual', 'GrLivArea', 'GarageCars', 'GarageArea', 'TotalBsmtSF',\n",
    "    'FullBath', 'YearBuilt', 'YearRemodAdd', 'Fireplaces', 'LotArea',\n",
    "    '1stFlrSF', 'TotRmsAbvGrd', 'MasVnrArea', 'BsmtFinSF1',\n",
    "    'Neighborhood', 'ExterQual', 'KitchenQual', 'GarageType', 'GarageFinish',\n",
    "    'SalePrice'\n",
    "]\n",
    "df = df[[col for col in features if col in df.columns]]\n",
    "\n",
    "# Encode categorical variables\n",
    "for col in df.select_dtypes(include='object').columns:\n",
    "    df[col] = LabelEncoder().fit_transform(df[col].astype(str))\n",
    "\n",
    "# Split into features and target\n",
    "X = df.drop(\"SalePrice\", axis=1)\n",
    "y = df[\"SalePrice\"]\n",
    "\n",
    "# Train/test split\n",
    "X_train, X_test, y_train, y_test = train_test_split(X, y, test_size=0.2, random_state=42)\n",
    "\n",
    "# Train CatBoost model\n",
    "model = CatBoostRegressor(\n",
    "    iterations=1000,\n",
    "    learning_rate=0.05,\n",
    "    depth=3,\n",
    "    verbose=100,\n",
    "    random_state=0\n",
    ")\n",
    "model.fit(X_train, y_train)\n",
    "\n",
    "\n",
    "# Predict and evaluate\n",
    "y_pred = model.predict(X_test)\n",
    "mae = mean_absolute_error(y_test, y_pred)\n",
    "print(f\"MAE using CatBoost: {mae:.2f}\")\n"
   ]
  },
  {
   "cell_type": "code",
   "execution_count": null,
   "id": "1ba912ea",
   "metadata": {},
   "outputs": [
    {
     "name": "stdout",
     "output_type": "stream",
     "text": [
      "R² Score: 0.9154\n",
      "Accuracy: 91.54%\n"
     ]
    }
   ],
   "source": [
    "from sklearn.metrics import r2_score\n",
    "\n",
    "r2 = r2_score(y_test, y_pred)\n",
    "print(f\"R² Score: {r2:.4f}\")               \n",
    "print(f\"Accuracy: {r2 * 100:.2f}%\")        \n"
   ]
  },
  {
   "cell_type": "code",
   "execution_count": null,
   "id": "4db66ecc",
   "metadata": {},
   "outputs": [],
   "source": []
  }
 ],
 "metadata": {
  "kernelspec": {
   "display_name": "base",
   "language": "python",
   "name": "python3"
  },
  "language_info": {
   "codemirror_mode": {
    "name": "ipython",
    "version": 3
   },
   "file_extension": ".py",
   "mimetype": "text/x-python",
   "name": "python",
   "nbconvert_exporter": "python",
   "pygments_lexer": "ipython3",
   "version": "3.12.7"
  }
 },
 "nbformat": 4,
 "nbformat_minor": 5
}
