{
 "cells": [
  {
   "cell_type": "code",
   "execution_count": 39,
   "id": "56f370bf",
   "metadata": {},
   "outputs": [],
   "source": [
    "import pandas as pd\n",
    "import numpy as np\n",
    "import matplotlib.pyplot as plt\n",
    "import seaborn as sns"
   ]
  },
  {
   "cell_type": "code",
   "execution_count": 40,
   "id": "c2007ee5",
   "metadata": {},
   "outputs": [
    {
     "data": {
      "text/html": [
       "<div>\n",
       "<style scoped>\n",
       "    .dataframe tbody tr th:only-of-type {\n",
       "        vertical-align: middle;\n",
       "    }\n",
       "\n",
       "    .dataframe tbody tr th {\n",
       "        vertical-align: top;\n",
       "    }\n",
       "\n",
       "    .dataframe thead th {\n",
       "        text-align: right;\n",
       "    }\n",
       "</style>\n",
       "<table border=\"1\" class=\"dataframe\">\n",
       "  <thead>\n",
       "    <tr style=\"text-align: right;\">\n",
       "      <th></th>\n",
       "      <th>year</th>\n",
       "      <th>brand</th>\n",
       "      <th>color</th>\n",
       "      <th>carbon_fiber_body</th>\n",
       "      <th>engine_config</th>\n",
       "      <th>horsepower</th>\n",
       "      <th>torque</th>\n",
       "      <th>weight_kg</th>\n",
       "      <th>zero_to_60_s</th>\n",
       "      <th>top_speed_mph</th>\n",
       "      <th>...</th>\n",
       "      <th>has_warranty</th>\n",
       "      <th>last_service_date</th>\n",
       "      <th>service_history</th>\n",
       "      <th>non_original_parts</th>\n",
       "      <th>model</th>\n",
       "      <th>warranty_years</th>\n",
       "      <th>damage</th>\n",
       "      <th>damage_cost</th>\n",
       "      <th>damage_type</th>\n",
       "      <th>price</th>\n",
       "    </tr>\n",
       "    <tr>\n",
       "      <th>id</th>\n",
       "      <th></th>\n",
       "      <th></th>\n",
       "      <th></th>\n",
       "      <th></th>\n",
       "      <th></th>\n",
       "      <th></th>\n",
       "      <th></th>\n",
       "      <th></th>\n",
       "      <th></th>\n",
       "      <th></th>\n",
       "      <th></th>\n",
       "      <th></th>\n",
       "      <th></th>\n",
       "      <th></th>\n",
       "      <th></th>\n",
       "      <th></th>\n",
       "      <th></th>\n",
       "      <th></th>\n",
       "      <th></th>\n",
       "      <th></th>\n",
       "      <th></th>\n",
       "    </tr>\n",
       "  </thead>\n",
       "  <tbody>\n",
       "    <tr>\n",
       "      <th>wn8zA4ADUC</th>\n",
       "      <td>2023</td>\n",
       "      <td>McLaren</td>\n",
       "      <td>Silver</td>\n",
       "      <td>1</td>\n",
       "      <td>Hybrid</td>\n",
       "      <td>1045</td>\n",
       "      <td>794</td>\n",
       "      <td>1897</td>\n",
       "      <td>3.63</td>\n",
       "      <td>227</td>\n",
       "      <td>...</td>\n",
       "      <td>0</td>\n",
       "      <td>2024-08-15</td>\n",
       "      <td>authorized</td>\n",
       "      <td>0</td>\n",
       "      <td>600LT</td>\n",
       "      <td>0</td>\n",
       "      <td>1</td>\n",
       "      <td>83632.0</td>\n",
       "      <td>major</td>\n",
       "      <td>329510.72</td>\n",
       "    </tr>\n",
       "    <tr>\n",
       "      <th>m5EyycSRrS</th>\n",
       "      <td>2024</td>\n",
       "      <td>Aston Martin</td>\n",
       "      <td>Black</td>\n",
       "      <td>1</td>\n",
       "      <td>W16</td>\n",
       "      <td>879</td>\n",
       "      <td>510</td>\n",
       "      <td>2193</td>\n",
       "      <td>2.72</td>\n",
       "      <td>247</td>\n",
       "      <td>...</td>\n",
       "      <td>0</td>\n",
       "      <td>2025-03-29</td>\n",
       "      <td>none</td>\n",
       "      <td>1</td>\n",
       "      <td>Valhalla</td>\n",
       "      <td>0</td>\n",
       "      <td>0</td>\n",
       "      <td>NaN</td>\n",
       "      <td>NaN</td>\n",
       "      <td>509289.91</td>\n",
       "    </tr>\n",
       "    <tr>\n",
       "      <th>IOcII96Ua3</th>\n",
       "      <td>2022</td>\n",
       "      <td>Koenigsegg</td>\n",
       "      <td>White</td>\n",
       "      <td>1</td>\n",
       "      <td>V12</td>\n",
       "      <td>609</td>\n",
       "      <td>489</td>\n",
       "      <td>1277</td>\n",
       "      <td>3.16</td>\n",
       "      <td>236</td>\n",
       "      <td>...</td>\n",
       "      <td>0</td>\n",
       "      <td>2025-06-30</td>\n",
       "      <td>authorized</td>\n",
       "      <td>0</td>\n",
       "      <td>Jesko</td>\n",
       "      <td>0</td>\n",
       "      <td>1</td>\n",
       "      <td>51179.0</td>\n",
       "      <td>major</td>\n",
       "      <td>2164428.25</td>\n",
       "    </tr>\n",
       "    <tr>\n",
       "      <th>qlds6yyR3r</th>\n",
       "      <td>2024</td>\n",
       "      <td>Bugatti</td>\n",
       "      <td>Blue</td>\n",
       "      <td>0</td>\n",
       "      <td>V12</td>\n",
       "      <td>1044</td>\n",
       "      <td>1162</td>\n",
       "      <td>1733</td>\n",
       "      <td>2.15</td>\n",
       "      <td>248</td>\n",
       "      <td>...</td>\n",
       "      <td>1</td>\n",
       "      <td>2024-08-29</td>\n",
       "      <td>none</td>\n",
       "      <td>0</td>\n",
       "      <td>Chiron</td>\n",
       "      <td>1</td>\n",
       "      <td>0</td>\n",
       "      <td>NaN</td>\n",
       "      <td>NaN</td>\n",
       "      <td>2793655.40</td>\n",
       "    </tr>\n",
       "    <tr>\n",
       "      <th>fRR6ulIWvU</th>\n",
       "      <td>2024</td>\n",
       "      <td>Pagani</td>\n",
       "      <td>White</td>\n",
       "      <td>0</td>\n",
       "      <td>V12</td>\n",
       "      <td>853</td>\n",
       "      <td>679</td>\n",
       "      <td>1307</td>\n",
       "      <td>2.35</td>\n",
       "      <td>247</td>\n",
       "      <td>...</td>\n",
       "      <td>0</td>\n",
       "      <td>2025-02-21</td>\n",
       "      <td>authorized</td>\n",
       "      <td>0</td>\n",
       "      <td>Zonda</td>\n",
       "      <td>0</td>\n",
       "      <td>1</td>\n",
       "      <td>77100.0</td>\n",
       "      <td>major</td>\n",
       "      <td>2927390.00</td>\n",
       "    </tr>\n",
       "  </tbody>\n",
       "</table>\n",
       "<p>5 rows × 31 columns</p>\n",
       "</div>"
      ],
      "text/plain": [
       "            year         brand   color  carbon_fiber_body engine_config  \\\n",
       "id                                                                        \n",
       "wn8zA4ADUC  2023       McLaren  Silver                  1        Hybrid   \n",
       "m5EyycSRrS  2024  Aston Martin   Black                  1           W16   \n",
       "IOcII96Ua3  2022    Koenigsegg   White                  1           V12   \n",
       "qlds6yyR3r  2024       Bugatti    Blue                  0           V12   \n",
       "fRR6ulIWvU  2024        Pagani   White                  0           V12   \n",
       "\n",
       "            horsepower  torque  weight_kg  zero_to_60_s  top_speed_mph  ...  \\\n",
       "id                                                                      ...   \n",
       "wn8zA4ADUC        1045     794       1897          3.63            227  ...   \n",
       "m5EyycSRrS         879     510       2193          2.72            247  ...   \n",
       "IOcII96Ua3         609     489       1277          3.16            236  ...   \n",
       "qlds6yyR3r        1044    1162       1733          2.15            248  ...   \n",
       "fRR6ulIWvU         853     679       1307          2.35            247  ...   \n",
       "\n",
       "            has_warranty last_service_date service_history non_original_parts  \\\n",
       "id                                                                              \n",
       "wn8zA4ADUC             0        2024-08-15      authorized                  0   \n",
       "m5EyycSRrS             0        2025-03-29            none                  1   \n",
       "IOcII96Ua3             0        2025-06-30      authorized                  0   \n",
       "qlds6yyR3r             1        2024-08-29            none                  0   \n",
       "fRR6ulIWvU             0        2025-02-21      authorized                  0   \n",
       "\n",
       "               model  warranty_years damage damage_cost damage_type  \\\n",
       "id                                                                    \n",
       "wn8zA4ADUC     600LT               0      1     83632.0       major   \n",
       "m5EyycSRrS  Valhalla               0      0         NaN         NaN   \n",
       "IOcII96Ua3     Jesko               0      1     51179.0       major   \n",
       "qlds6yyR3r    Chiron               1      0         NaN         NaN   \n",
       "fRR6ulIWvU     Zonda               0      1     77100.0       major   \n",
       "\n",
       "                 price  \n",
       "id                      \n",
       "wn8zA4ADUC   329510.72  \n",
       "m5EyycSRrS   509289.91  \n",
       "IOcII96Ua3  2164428.25  \n",
       "qlds6yyR3r  2793655.40  \n",
       "fRR6ulIWvU  2927390.00  \n",
       "\n",
       "[5 rows x 31 columns]"
      ]
     },
     "execution_count": 40,
     "metadata": {},
     "output_type": "execute_result"
    }
   ],
   "source": [
    "data = pd.read_csv('./predict-supercars-prices-2025/supercars_train.csv', index_col='id')\n",
    "data.head()"
   ]
  },
  {
   "cell_type": "code",
   "execution_count": 41,
   "id": "dc001861",
   "metadata": {},
   "outputs": [
    {
     "data": {
      "text/plain": [
       "Index(['year', 'brand', 'color', 'carbon_fiber_body', 'engine_config',\n",
       "       'horsepower', 'torque', 'weight_kg', 'zero_to_60_s', 'top_speed_mph',\n",
       "       'num_doors', 'transmission', 'drivetrain', 'market_region', 'mileage',\n",
       "       'num_owners', 'interior_material', 'brake_type', 'tire_brand',\n",
       "       'aero_package', 'limited_edition', 'has_warranty', 'last_service_date',\n",
       "       'service_history', 'non_original_parts', 'model', 'warranty_years',\n",
       "       'damage', 'damage_cost', 'damage_type', 'price'],\n",
       "      dtype='object')"
      ]
     },
     "execution_count": 41,
     "metadata": {},
     "output_type": "execute_result"
    }
   ],
   "source": [
    "data.columns"
   ]
  },
  {
   "cell_type": "code",
   "execution_count": 42,
   "id": "c1ba5a00",
   "metadata": {},
   "outputs": [
    {
     "data": {
      "text/plain": [
       "(2000, 31)"
      ]
     },
     "execution_count": 42,
     "metadata": {},
     "output_type": "execute_result"
    }
   ],
   "source": [
    "data.shape"
   ]
  },
  {
   "cell_type": "code",
   "execution_count": 45,
   "id": "5b367123",
   "metadata": {},
   "outputs": [],
   "source": [
    "from sklearn.ensemble import RandomForestRegressor\n",
    "from sklearn.model_selection import train_test_split"
   ]
  },
  {
   "cell_type": "code",
   "execution_count": 46,
   "id": "64318125",
   "metadata": {},
   "outputs": [
    {
     "data": {
      "text/plain": [
       "Index(['year', 'brand', 'color', 'carbon_fiber_body', 'engine_config',\n",
       "       'horsepower', 'torque', 'weight_kg', 'zero_to_60_s', 'top_speed_mph',\n",
       "       'num_doors', 'transmission', 'drivetrain', 'market_region', 'mileage',\n",
       "       'num_owners', 'interior_material', 'brake_type', 'tire_brand',\n",
       "       'aero_package', 'limited_edition', 'has_warranty', 'last_service_date',\n",
       "       'service_history', 'non_original_parts', 'model', 'warranty_years',\n",
       "       'damage', 'damage_cost', 'damage_type', 'price'],\n",
       "      dtype='object')"
      ]
     },
     "execution_count": 46,
     "metadata": {},
     "output_type": "execute_result"
    }
   ],
   "source": [
    "data.columns"
   ]
  },
  {
   "cell_type": "code",
   "execution_count": 49,
   "id": "d46247d4",
   "metadata": {},
   "outputs": [
    {
     "data": {
      "text/plain": [
       "True"
      ]
     },
     "execution_count": 49,
     "metadata": {},
     "output_type": "execute_result"
    }
   ],
   "source": [
    "'price' in data.columns"
   ]
  },
  {
   "cell_type": "code",
   "execution_count": 50,
   "id": "0a324854",
   "metadata": {},
   "outputs": [
    {
     "name": "stdout",
     "output_type": "stream",
     "text": [
      "['year', 'carbon_fiber_body', 'horsepower', 'torque', 'weight_kg', 'zero_to_60_s', 'top_speed_mph', 'num_doors', 'mileage', 'num_owners', 'aero_package', 'limited_edition', 'has_warranty', 'non_original_parts', 'warranty_years', 'damage', 'damage_cost', 'price']\n",
      "number of column is a  18\n"
     ]
    }
   ],
   "source": [
    "int_cols = [cols for cols in data.columns \n",
    "            if data[cols].dtype in ['int64', 'float64']]\n",
    "print(int_cols)\n",
    "print(\"number of column is a \", len(int_cols))\n"
   ]
  },
  {
   "cell_type": "code",
   "execution_count": 66,
   "id": "3ee7b799",
   "metadata": {},
   "outputs": [],
   "source": [
    "data['damage_cost'] = data['damage_cost'].fillna(data['damage_cost'].median())\n",
    "X = data[['year', 'carbon_fiber_body', 'horsepower', 'torque', 'weight_kg', 'zero_to_60_s',\n",
    "          'top_speed_mph', 'num_doors', 'mileage', 'num_owners', 'aero_package', 'limited_edition',\n",
    "          'has_warranty', 'non_original_parts', 'warranty_years', 'damage', 'damage_cost']]\n",
    "\n",
    "y = data['price']\n"
   ]
  },
  {
   "cell_type": "code",
   "execution_count": 67,
   "id": "f539079d",
   "metadata": {},
   "outputs": [
    {
     "name": "stdout",
     "output_type": "stream",
     "text": [
      "MAE :  1006767.0648474998\n"
     ]
    }
   ],
   "source": [
    "X_train, X_valid,y_train,y_valid = train_test_split(X,y,test_size=0.2,random_state=0)\n",
    "from sklearn.metrics import mean_absolute_error\n",
    "model = RandomForestRegressor(n_estimators=100)\n",
    "model.fit(X_train,y_train)\n",
    "pred = model.predict(X_valid)\n",
    "print(\"MAE : \",mean_absolute_error(pred,y_valid))\n"
   ]
  },
  {
   "cell_type": "code",
   "execution_count": 68,
   "id": "27a1b4e0",
   "metadata": {},
   "outputs": [
    {
     "data": {
      "text/html": [
       "<div>\n",
       "<style scoped>\n",
       "    .dataframe tbody tr th:only-of-type {\n",
       "        vertical-align: middle;\n",
       "    }\n",
       "\n",
       "    .dataframe tbody tr th {\n",
       "        vertical-align: top;\n",
       "    }\n",
       "\n",
       "    .dataframe thead th {\n",
       "        text-align: right;\n",
       "    }\n",
       "</style>\n",
       "<table border=\"1\" class=\"dataframe\">\n",
       "  <thead>\n",
       "    <tr style=\"text-align: right;\">\n",
       "      <th></th>\n",
       "      <th>year</th>\n",
       "      <th>carbon_fiber_body</th>\n",
       "      <th>horsepower</th>\n",
       "      <th>torque</th>\n",
       "      <th>weight_kg</th>\n",
       "      <th>zero_to_60_s</th>\n",
       "      <th>top_speed_mph</th>\n",
       "      <th>num_doors</th>\n",
       "      <th>mileage</th>\n",
       "      <th>num_owners</th>\n",
       "      <th>aero_package</th>\n",
       "      <th>limited_edition</th>\n",
       "      <th>has_warranty</th>\n",
       "      <th>non_original_parts</th>\n",
       "      <th>warranty_years</th>\n",
       "      <th>damage</th>\n",
       "      <th>damage_cost</th>\n",
       "    </tr>\n",
       "    <tr>\n",
       "      <th>id</th>\n",
       "      <th></th>\n",
       "      <th></th>\n",
       "      <th></th>\n",
       "      <th></th>\n",
       "      <th></th>\n",
       "      <th></th>\n",
       "      <th></th>\n",
       "      <th></th>\n",
       "      <th></th>\n",
       "      <th></th>\n",
       "      <th></th>\n",
       "      <th></th>\n",
       "      <th></th>\n",
       "      <th></th>\n",
       "      <th></th>\n",
       "      <th></th>\n",
       "      <th></th>\n",
       "    </tr>\n",
       "  </thead>\n",
       "  <tbody>\n",
       "    <tr>\n",
       "      <th>iL3RXb7GCe</th>\n",
       "      <td>2025</td>\n",
       "      <td>0</td>\n",
       "      <td>1057</td>\n",
       "      <td>1013</td>\n",
       "      <td>1290</td>\n",
       "      <td>3.95</td>\n",
       "      <td>242</td>\n",
       "      <td>2</td>\n",
       "      <td>15698</td>\n",
       "      <td>3</td>\n",
       "      <td>0</td>\n",
       "      <td>0</td>\n",
       "      <td>1</td>\n",
       "      <td>0</td>\n",
       "      <td>1</td>\n",
       "      <td>1</td>\n",
       "      <td>67469.0</td>\n",
       "    </tr>\n",
       "    <tr>\n",
       "      <th>5PxE8sNbkx</th>\n",
       "      <td>2023</td>\n",
       "      <td>0</td>\n",
       "      <td>1216</td>\n",
       "      <td>701</td>\n",
       "      <td>2227</td>\n",
       "      <td>2.06</td>\n",
       "      <td>247</td>\n",
       "      <td>2</td>\n",
       "      <td>19509</td>\n",
       "      <td>2</td>\n",
       "      <td>0</td>\n",
       "      <td>1</td>\n",
       "      <td>1</td>\n",
       "      <td>0</td>\n",
       "      <td>4</td>\n",
       "      <td>0</td>\n",
       "      <td>50787.5</td>\n",
       "    </tr>\n",
       "    <tr>\n",
       "      <th>FBY4HvubFG</th>\n",
       "      <td>2023</td>\n",
       "      <td>0</td>\n",
       "      <td>846</td>\n",
       "      <td>1192</td>\n",
       "      <td>1478</td>\n",
       "      <td>2.18</td>\n",
       "      <td>228</td>\n",
       "      <td>2</td>\n",
       "      <td>9190</td>\n",
       "      <td>1</td>\n",
       "      <td>0</td>\n",
       "      <td>0</td>\n",
       "      <td>0</td>\n",
       "      <td>0</td>\n",
       "      <td>0</td>\n",
       "      <td>0</td>\n",
       "      <td>50787.5</td>\n",
       "    </tr>\n",
       "    <tr>\n",
       "      <th>qZWLnWbvU1</th>\n",
       "      <td>2024</td>\n",
       "      <td>1</td>\n",
       "      <td>1488</td>\n",
       "      <td>524</td>\n",
       "      <td>2184</td>\n",
       "      <td>2.20</td>\n",
       "      <td>213</td>\n",
       "      <td>2</td>\n",
       "      <td>19305</td>\n",
       "      <td>2</td>\n",
       "      <td>0</td>\n",
       "      <td>1</td>\n",
       "      <td>0</td>\n",
       "      <td>0</td>\n",
       "      <td>0</td>\n",
       "      <td>0</td>\n",
       "      <td>50787.5</td>\n",
       "    </tr>\n",
       "    <tr>\n",
       "      <th>q9y82JubNu</th>\n",
       "      <td>2024</td>\n",
       "      <td>0</td>\n",
       "      <td>950</td>\n",
       "      <td>523</td>\n",
       "      <td>2113</td>\n",
       "      <td>3.55</td>\n",
       "      <td>257</td>\n",
       "      <td>2</td>\n",
       "      <td>12131</td>\n",
       "      <td>1</td>\n",
       "      <td>0</td>\n",
       "      <td>0</td>\n",
       "      <td>0</td>\n",
       "      <td>0</td>\n",
       "      <td>0</td>\n",
       "      <td>1</td>\n",
       "      <td>29884.0</td>\n",
       "    </tr>\n",
       "  </tbody>\n",
       "</table>\n",
       "</div>"
      ],
      "text/plain": [
       "            year  carbon_fiber_body  horsepower  torque  weight_kg  \\\n",
       "id                                                                   \n",
       "iL3RXb7GCe  2025                  0        1057    1013       1290   \n",
       "5PxE8sNbkx  2023                  0        1216     701       2227   \n",
       "FBY4HvubFG  2023                  0         846    1192       1478   \n",
       "qZWLnWbvU1  2024                  1        1488     524       2184   \n",
       "q9y82JubNu  2024                  0         950     523       2113   \n",
       "\n",
       "            zero_to_60_s  top_speed_mph  num_doors  mileage  num_owners  \\\n",
       "id                                                                        \n",
       "iL3RXb7GCe          3.95            242          2    15698           3   \n",
       "5PxE8sNbkx          2.06            247          2    19509           2   \n",
       "FBY4HvubFG          2.18            228          2     9190           1   \n",
       "qZWLnWbvU1          2.20            213          2    19305           2   \n",
       "q9y82JubNu          3.55            257          2    12131           1   \n",
       "\n",
       "            aero_package  limited_edition  has_warranty  non_original_parts  \\\n",
       "id                                                                            \n",
       "iL3RXb7GCe             0                0             1                   0   \n",
       "5PxE8sNbkx             0                1             1                   0   \n",
       "FBY4HvubFG             0                0             0                   0   \n",
       "qZWLnWbvU1             0                1             0                   0   \n",
       "q9y82JubNu             0                0             0                   0   \n",
       "\n",
       "            warranty_years  damage  damage_cost  \n",
       "id                                               \n",
       "iL3RXb7GCe               1       1      67469.0  \n",
       "5PxE8sNbkx               4       0      50787.5  \n",
       "FBY4HvubFG               0       0      50787.5  \n",
       "qZWLnWbvU1               0       0      50787.5  \n",
       "q9y82JubNu               0       1      29884.0  "
      ]
     },
     "execution_count": 68,
     "metadata": {},
     "output_type": "execute_result"
    }
   ],
   "source": [
    "X_train.head()"
   ]
  },
  {
   "cell_type": "code",
   "execution_count": 69,
   "id": "b3707cbb",
   "metadata": {},
   "outputs": [
    {
     "data": {
      "text/plain": [
       "id\n",
       "iL3RXb7GCe     215049.72\n",
       "5PxE8sNbkx    2566143.21\n",
       "FBY4HvubFG    3033505.41\n",
       "qZWLnWbvU1    1834106.76\n",
       "q9y82JubNu     355882.92\n",
       "Name: price, dtype: float64"
      ]
     },
     "execution_count": 69,
     "metadata": {},
     "output_type": "execute_result"
    }
   ],
   "source": [
    "y_train.head()"
   ]
  },
  {
   "cell_type": "code",
   "execution_count": 70,
   "id": "fca08ba5",
   "metadata": {},
   "outputs": [
    {
     "name": "stdout",
     "output_type": "stream",
     "text": [
      "MAE :  1008775.131065675\n"
     ]
    }
   ],
   "source": [
    "from sklearn.metrics import mean_absolute_error\n",
    "model = RandomForestRegressor(n_estimators=1000,random_state=0)\n",
    "model.fit(X_train,y_train)\n",
    "pred = model.predict(X_valid)\n",
    "print(\"MAE : \",mean_absolute_error(pred,y_valid))\n"
   ]
  },
  {
   "cell_type": "code",
   "execution_count": 71,
   "id": "92c5124a",
   "metadata": {},
   "outputs": [
    {
     "data": {
      "text/plain": [
       "year                  0\n",
       "carbon_fiber_body     0\n",
       "horsepower            0\n",
       "torque                0\n",
       "weight_kg             0\n",
       "zero_to_60_s          0\n",
       "top_speed_mph         0\n",
       "num_doors             0\n",
       "mileage               0\n",
       "num_owners            0\n",
       "aero_package          0\n",
       "limited_edition       0\n",
       "has_warranty          0\n",
       "non_original_parts    0\n",
       "warranty_years        0\n",
       "damage                0\n",
       "damage_cost           0\n",
       "dtype: int64"
      ]
     },
     "execution_count": 71,
     "metadata": {},
     "output_type": "execute_result"
    }
   ],
   "source": [
    "X.isnull().sum()"
   ]
  },
  {
   "cell_type": "code",
   "execution_count": 81,
   "id": "89d5a6a5",
   "metadata": {},
   "outputs": [
    {
     "name": "stdout",
     "output_type": "stream",
     "text": [
      "MAE :  1013415.1976861303\n"
     ]
    }
   ],
   "source": [
    "from sklearn.metrics import mean_absolute_error\n",
    "model = RandomForestRegressor(n_estimators=100,random_state=0, max_depth=7)\n",
    "model.fit(X_train,y_train)\n",
    "pred = model.predict(X_valid)\n",
    "print(\"MAE : \",mean_absolute_error(pred,y_valid))"
   ]
  },
  {
   "cell_type": "code",
   "execution_count": 82,
   "id": "91eee24f",
   "metadata": {},
   "outputs": [
    {
     "name": "stdout",
     "output_type": "stream",
     "text": [
      "MAE :  1003999.079854948\n"
     ]
    }
   ],
   "source": [
    "model = RandomForestRegressor(\n",
    "    n_estimators=300,\n",
    "    max_depth=20,\n",
    "    min_samples_split=5,\n",
    "    random_state=0\n",
    ")\n",
    "model.fit(X_train,y_train)\n",
    "pred = model.predict(X_valid)\n",
    "print(\"MAE : \",mean_absolute_error(pred,y_valid))"
   ]
  },
  {
   "cell_type": "code",
   "execution_count": null,
   "id": "60322084",
   "metadata": {},
   "outputs": [],
   "source": []
  }
 ],
 "metadata": {
  "kernelspec": {
   "display_name": "base",
   "language": "python",
   "name": "python3"
  },
  "language_info": {
   "codemirror_mode": {
    "name": "ipython",
    "version": 3
   },
   "file_extension": ".py",
   "mimetype": "text/x-python",
   "name": "python",
   "nbconvert_exporter": "python",
   "pygments_lexer": "ipython3",
   "version": "3.12.7"
  }
 },
 "nbformat": 4,
 "nbformat_minor": 5
}
