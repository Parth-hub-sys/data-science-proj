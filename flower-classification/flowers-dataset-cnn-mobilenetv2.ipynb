{
 "cells": [
  {
   "cell_type": "code",
   "execution_count": 1,
   "metadata": {
    "_cell_guid": "b1076dfc-b9ad-4769-8c92-a6c4dae69d19",
    "_uuid": "8f2839f25d086af736a60e9eeb907d3b93b6e0e5",
    "execution": {
     "iopub.execute_input": "2025-07-21T11:52:57.035172Z",
     "iopub.status.busy": "2025-07-21T11:52:57.034936Z",
     "iopub.status.idle": "2025-07-21T11:53:22.635585Z",
     "shell.execute_reply": "2025-07-21T11:53:22.634842Z",
     "shell.execute_reply.started": "2025-07-21T11:52:57.035154Z"
    },
    "trusted": true
   },
   "outputs": [
    {
     "name": "stdout",
     "output_type": "stream",
     "text": [
      "WARNING:tensorflow:From d:\\python\\Lib\\site-packages\\keras\\src\\losses.py:2976: The name tf.losses.sparse_softmax_cross_entropy is deprecated. Please use tf.compat.v1.losses.sparse_softmax_cross_entropy instead.\n",
      "\n"
     ]
    }
   ],
   "source": [
    "import os\n",
    "\n",
    "import pandas as pd\n",
    "\n",
    "import matplotlib.pyplot as plt\n",
    "\n",
    "\n",
    "from sklearn.model_selection import train_test_split\n",
    "from tensorflow.keras.models import Model\n",
    "from tensorflow.keras.layers import Dense , GlobalAveragePooling2D\n",
    "from tensorflow.keras.preprocessing.image import ImageDataGenerator\n",
    "from tensorflow.keras.applications import MobileNetV2"
   ]
  },
  {
   "cell_type": "code",
   "execution_count": 2,
   "metadata": {},
   "outputs": [
    {
     "name": "stdout",
     "output_type": "stream",
     "text": [
      "2.15.0\n"
     ]
    }
   ],
   "source": [
    "import tensorflow as tf\n",
    "print(tf.__version__)"
   ]
  },
  {
   "cell_type": "markdown",
   "metadata": {},
   "source": [
    "**Creating the Dataframe**"
   ]
  },
  {
   "cell_type": "code",
   "execution_count": 3,
   "metadata": {
    "execution": {
     "iopub.execute_input": "2025-07-21T11:53:33.786919Z",
     "iopub.status.busy": "2025-07-21T11:53:33.786468Z",
     "iopub.status.idle": "2025-07-21T11:53:33.911284Z",
     "shell.execute_reply": "2025-07-21T11:53:33.910528Z",
     "shell.execute_reply.started": "2025-07-21T11:53:33.786894Z"
    },
    "trusted": true
   },
   "outputs": [
    {
     "data": {
      "application/vnd.microsoft.datawrangler.viewer.v0+json": {
       "columns": [
        {
         "name": "index",
         "rawType": "int64",
         "type": "integer"
        },
        {
         "name": "filepath",
         "rawType": "object",
         "type": "string"
        },
        {
         "name": "label",
         "rawType": "object",
         "type": "string"
        }
       ],
       "ref": "28543cb8-3635-4a52-864c-d722e4b49f4a",
       "rows": [
        [
         "0",
         "./archive/train/dandelion\\18587334446_ef1021909b_n.jpg",
         "dandelion"
        ],
        [
         "1",
         "./archive/train/rose\\3268459296_a7346c6b2c.jpg",
         "rose"
        ],
        [
         "2",
         "./archive/train/tulip\\13911047024_8966d70560_n.jpg",
         "tulip"
        ],
        [
         "3",
         "./archive/train/sunflower\\5032376020_2ed312306c.jpg",
         "sunflower"
        ],
        [
         "4",
         "./archive/train/dandelion\\19064700925_b93d474e37.jpg",
         "dandelion"
        ]
       ],
       "shape": {
        "columns": 2,
        "rows": 5
       }
      },
      "text/html": [
       "<div>\n",
       "<style scoped>\n",
       "    .dataframe tbody tr th:only-of-type {\n",
       "        vertical-align: middle;\n",
       "    }\n",
       "\n",
       "    .dataframe tbody tr th {\n",
       "        vertical-align: top;\n",
       "    }\n",
       "\n",
       "    .dataframe thead th {\n",
       "        text-align: right;\n",
       "    }\n",
       "</style>\n",
       "<table border=\"1\" class=\"dataframe\">\n",
       "  <thead>\n",
       "    <tr style=\"text-align: right;\">\n",
       "      <th></th>\n",
       "      <th>filepath</th>\n",
       "      <th>label</th>\n",
       "    </tr>\n",
       "  </thead>\n",
       "  <tbody>\n",
       "    <tr>\n",
       "      <th>0</th>\n",
       "      <td>./archive/train/dandelion\\18587334446_ef102190...</td>\n",
       "      <td>dandelion</td>\n",
       "    </tr>\n",
       "    <tr>\n",
       "      <th>1</th>\n",
       "      <td>./archive/train/rose\\3268459296_a7346c6b2c.jpg</td>\n",
       "      <td>rose</td>\n",
       "    </tr>\n",
       "    <tr>\n",
       "      <th>2</th>\n",
       "      <td>./archive/train/tulip\\13911047024_8966d70560_n...</td>\n",
       "      <td>tulip</td>\n",
       "    </tr>\n",
       "    <tr>\n",
       "      <th>3</th>\n",
       "      <td>./archive/train/sunflower\\5032376020_2ed312306...</td>\n",
       "      <td>sunflower</td>\n",
       "    </tr>\n",
       "    <tr>\n",
       "      <th>4</th>\n",
       "      <td>./archive/train/dandelion\\19064700925_b93d474e...</td>\n",
       "      <td>dandelion</td>\n",
       "    </tr>\n",
       "  </tbody>\n",
       "</table>\n",
       "</div>"
      ],
      "text/plain": [
       "                                            filepath      label\n",
       "0  ./archive/train/dandelion\\18587334446_ef102190...  dandelion\n",
       "1     ./archive/train/rose\\3268459296_a7346c6b2c.jpg       rose\n",
       "2  ./archive/train/tulip\\13911047024_8966d70560_n...      tulip\n",
       "3  ./archive/train/sunflower\\5032376020_2ed312306...  sunflower\n",
       "4  ./archive/train/dandelion\\19064700925_b93d474e...  dandelion"
      ]
     },
     "execution_count": 3,
     "metadata": {},
     "output_type": "execute_result"
    }
   ],
   "source": [
    "root_dir='./archive/train/'\n",
    "\n",
    "categories=os.listdir(root_dir)\n",
    "\n",
    "filepaths=[]\n",
    "labels=[]\n",
    "\n",
    "for category in categories:\n",
    "    category_path=os.path.join(root_dir,category)\n",
    "    if os.path.isdir(category_path):\n",
    "        for fname in os.listdir(category_path):\n",
    "            if fname.lower().endswith(('.png', '.jpg', '.jpeg')):\n",
    "                filepaths.append(os.path.join(category_path, fname))\n",
    "                labels.append(category)\n",
    "\n",
    "\n",
    "#Creating the Dataframe\n",
    "df=pd.DataFrame({'filepath': filepaths , 'label' : labels})\n",
    "\n",
    "#shufleing the Datframe\n",
    "df=df.sample(frac=1).reset_index(drop=True)\n",
    "\n",
    "df.head()\n"
   ]
  },
  {
   "cell_type": "markdown",
   "metadata": {},
   "source": [
    "**Image DataGenerator**"
   ]
  },
  {
   "cell_type": "code",
   "execution_count": 4,
   "metadata": {
    "execution": {
     "iopub.execute_input": "2025-07-21T11:53:37.648485Z",
     "iopub.status.busy": "2025-07-21T11:53:37.648211Z",
     "iopub.status.idle": "2025-07-21T11:53:46.32264Z",
     "shell.execute_reply": "2025-07-21T11:53:46.321812Z",
     "shell.execute_reply.started": "2025-07-21T11:53:37.648463Z"
    },
    "trusted": true
   },
   "outputs": [
    {
     "name": "stdout",
     "output_type": "stream",
     "text": [
      "Found 2197 validated image filenames belonging to 5 classes.\n",
      "Found 549 validated image filenames belonging to 5 classes.\n"
     ]
    }
   ],
   "source": [
    "IMG_SIZE=224\n",
    "BATCH_SIZE=32\n",
    "\n",
    "datagen=ImageDataGenerator(rescale=1./255,validation_split=0.2)\n",
    "\n",
    "train_generator = datagen.flow_from_dataframe(\n",
    "    dataframe=df,\n",
    "    x_col='filepath',\n",
    "    y_col='label',\n",
    "    target_size=(IMG_SIZE, IMG_SIZE),\n",
    "    class_mode='categorical',\n",
    "    subset='training',\n",
    "    batch_size=BATCH_SIZE,\n",
    "    shuffle=True\n",
    ")\n",
    "\n",
    "\n",
    "val_generator = datagen.flow_from_dataframe(\n",
    "    dataframe=df,\n",
    "    x_col='filepath',\n",
    "    y_col='label',\n",
    "    target_size=(IMG_SIZE, IMG_SIZE),\n",
    "    class_mode='categorical',\n",
    "    subset='validation',\n",
    "    batch_size=BATCH_SIZE,\n",
    "    shuffle=True\n",
    ")\n"
   ]
  },
  {
   "cell_type": "markdown",
   "metadata": {},
   "source": [
    "**Building the CNN with MobileNetV2**"
   ]
  },
  {
   "cell_type": "code",
   "execution_count": 5,
   "metadata": {
    "execution": {
     "iopub.execute_input": "2025-07-21T12:32:51.903725Z",
     "iopub.status.busy": "2025-07-21T12:32:51.903152Z",
     "iopub.status.idle": "2025-07-21T12:32:51.985671Z",
     "shell.execute_reply": "2025-07-21T12:32:51.98501Z",
     "shell.execute_reply.started": "2025-07-21T12:32:51.903702Z"
    },
    "trusted": true
   },
   "outputs": [
    {
     "name": "stdout",
     "output_type": "stream",
     "text": [
      "WARNING:tensorflow:From d:\\python\\Lib\\site-packages\\keras\\src\\backend.py:1398: The name tf.executing_eagerly_outside_functions is deprecated. Please use tf.compat.v1.executing_eagerly_outside_functions instead.\n",
      "\n",
      "WARNING:tensorflow:From d:\\python\\Lib\\site-packages\\keras\\src\\layers\\pooling\\max_pooling2d.py:161: The name tf.nn.max_pool is deprecated. Please use tf.nn.max_pool2d instead.\n",
      "\n",
      "Model: \"model\"\n",
      "_________________________________________________________________\n",
      " Layer (type)                Output Shape              Param #   \n",
      "=================================================================\n",
      " input_1 (InputLayer)        [(None, 224, 224, 3)]     0         \n",
      "                                                                 \n",
      " conv2d (Conv2D)             (None, 224, 224, 32)      896       \n",
      "                                                                 \n",
      " max_pooling2d (MaxPooling2  (None, 112, 112, 32)      0         \n",
      " D)                                                              \n",
      "                                                                 \n",
      " conv2d_1 (Conv2D)           (None, 112, 112, 64)      18496     \n",
      "                                                                 \n",
      " max_pooling2d_1 (MaxPoolin  (None, 56, 56, 64)        0         \n",
      " g2D)                                                            \n",
      "                                                                 \n",
      " conv2d_2 (Conv2D)           (None, 56, 56, 128)       73856     \n",
      "                                                                 \n",
      " max_pooling2d_2 (MaxPoolin  (None, 28, 28, 128)       0         \n",
      " g2D)                                                            \n",
      "                                                                 \n",
      " conv2d_3 (Conv2D)           (None, 28, 28, 256)       295168    \n",
      "                                                                 \n",
      " max_pooling2d_3 (MaxPoolin  (None, 14, 14, 256)       0         \n",
      " g2D)                                                            \n",
      "                                                                 \n",
      " global_average_pooling2d (  (None, 256)               0         \n",
      " GlobalAveragePooling2D)                                         \n",
      "                                                                 \n",
      " dense (Dense)               (None, 128)               32896     \n",
      "                                                                 \n",
      " dense_1 (Dense)             (None, 64)                8256      \n",
      "                                                                 \n",
      " dense_2 (Dense)             (None, 5)                 325       \n",
      "                                                                 \n",
      "=================================================================\n",
      "Total params: 429893 (1.64 MB)\n",
      "Trainable params: 429893 (1.64 MB)\n",
      "Non-trainable params: 0 (0.00 Byte)\n",
      "_________________________________________________________________\n"
     ]
    }
   ],
   "source": [
    "from tensorflow.keras.models import Model\n",
    "from tensorflow.keras.layers import Input, Conv2D, MaxPooling2D, Flatten, Dense, Dropout, GlobalAveragePooling2D\n",
    "from tensorflow.keras.optimizers import Adam\n",
    "\n",
    "IMG_SIZE = 224  # replace with your actual IMG_SIZE\n",
    "\n",
    "inputs = Input(shape=(IMG_SIZE, IMG_SIZE, 3))\n",
    "\n",
    "# Block 1\n",
    "x = Conv2D(32, (3, 3), activation='relu', padding='same')(inputs)\n",
    "x = MaxPooling2D((2, 2))(x)\n",
    "\n",
    "# Block 2\n",
    "x = Conv2D(64, (3, 3), activation='relu', padding='same')(x)\n",
    "x = MaxPooling2D((2, 2))(x)\n",
    "\n",
    "# Block 3\n",
    "x = Conv2D(128, (3, 3), activation='relu', padding='same')(x)\n",
    "x = MaxPooling2D((2, 2))(x)\n",
    "\n",
    "# Block 4\n",
    "x = Conv2D(256, (3, 3), activation='relu', padding='same')(x)\n",
    "x = MaxPooling2D((2, 2))(x)\n",
    "\n",
    "# Global Average Pooling and Fully Connected layers\n",
    "x = GlobalAveragePooling2D()(x)\n",
    "x = Dense(128, activation='relu')(x)\n",
    "x = Dense(64, activation='relu')(x)\n",
    "\n",
    "predictions = Dense(5, activation='softmax')(x)\n",
    "\n",
    "model = Model(inputs=inputs, outputs=predictions)\n",
    "\n",
    "model.compile(optimizer=Adam(),\n",
    "              loss='categorical_crossentropy',\n",
    "              metrics=['accuracy'])\n",
    "\n",
    "model.summary()\n"
   ]
  },
  {
   "cell_type": "markdown",
   "metadata": {},
   "source": [
    "**Training the model**"
   ]
  },
  {
   "cell_type": "code",
   "execution_count": 6,
   "metadata": {
    "execution": {
     "iopub.execute_input": "2025-07-21T12:32:58.753356Z",
     "iopub.status.busy": "2025-07-21T12:32:58.753053Z",
     "iopub.status.idle": "2025-07-21T12:41:06.087378Z",
     "shell.execute_reply": "2025-07-21T12:41:06.086747Z",
     "shell.execute_reply.started": "2025-07-21T12:32:58.753336Z"
    },
    "trusted": true
   },
   "outputs": [
    {
     "name": "stdout",
     "output_type": "stream",
     "text": [
      "Epoch 1/10\n",
      "WARNING:tensorflow:From d:\\python\\Lib\\site-packages\\keras\\src\\utils\\tf_utils.py:492: The name tf.ragged.RaggedTensorValue is deprecated. Please use tf.compat.v1.ragged.RaggedTensorValue instead.\n",
      "\n",
      "WARNING:tensorflow:From d:\\python\\Lib\\site-packages\\keras\\src\\engine\\base_layer_utils.py:384: The name tf.executing_eagerly_outside_functions is deprecated. Please use tf.compat.v1.executing_eagerly_outside_functions instead.\n",
      "\n",
      "69/69 [==============================] - 62s 887ms/step - loss: 1.4449 - accuracy: 0.3341 - val_loss: 1.2574 - val_accuracy: 0.4936\n",
      "Epoch 2/10\n",
      "69/69 [==============================] - 43s 622ms/step - loss: 1.2195 - accuracy: 0.4661 - val_loss: 1.1497 - val_accuracy: 0.4954\n",
      "Epoch 3/10\n",
      "69/69 [==============================] - 44s 645ms/step - loss: 1.1302 - accuracy: 0.4989 - val_loss: 1.0997 - val_accuracy: 0.5428\n",
      "Epoch 4/10\n",
      "69/69 [==============================] - 49s 704ms/step - loss: 1.0751 - accuracy: 0.5462 - val_loss: 1.0257 - val_accuracy: 0.5683\n",
      "Epoch 5/10\n",
      "69/69 [==============================] - 47s 677ms/step - loss: 1.0146 - accuracy: 0.5881 - val_loss: 0.9834 - val_accuracy: 0.6047\n",
      "Epoch 6/10\n",
      "69/69 [==============================] - 54s 786ms/step - loss: 0.9749 - accuracy: 0.5995 - val_loss: 0.9419 - val_accuracy: 0.6102\n",
      "Epoch 7/10\n",
      "69/69 [==============================] - 65s 927ms/step - loss: 0.9046 - accuracy: 0.6427 - val_loss: 0.9393 - val_accuracy: 0.6248\n",
      "Epoch 8/10\n",
      "69/69 [==============================] - 62s 897ms/step - loss: 0.8764 - accuracy: 0.6459 - val_loss: 1.0219 - val_accuracy: 0.5665\n",
      "Epoch 9/10\n",
      "69/69 [==============================] - 62s 901ms/step - loss: 0.8405 - accuracy: 0.6563 - val_loss: 0.8546 - val_accuracy: 0.6648\n",
      "Epoch 10/10\n",
      "69/69 [==============================] - 63s 914ms/step - loss: 0.8222 - accuracy: 0.6659 - val_loss: 0.8773 - val_accuracy: 0.6430\n"
     ]
    }
   ],
   "source": [
    "history = model.fit(\n",
    "    train_generator,\n",
    "    validation_data=val_generator,\n",
    "    epochs=10\n",
    ")\n"
   ]
  },
  {
   "cell_type": "markdown",
   "metadata": {},
   "source": [
    "**Evaluate Performance**"
   ]
  },
  {
   "cell_type": "code",
   "execution_count": 7,
   "metadata": {
    "execution": {
     "iopub.execute_input": "2025-07-21T12:41:21.286125Z",
     "iopub.status.busy": "2025-07-21T12:41:21.285821Z",
     "iopub.status.idle": "2025-07-21T12:41:21.610348Z",
     "shell.execute_reply": "2025-07-21T12:41:21.609592Z",
     "shell.execute_reply.started": "2025-07-21T12:41:21.286104Z"
    },
    "trusted": true
   },
   "outputs": [
    {
     "data": {
      "image/png": "[encoded data removed]",
      "text/plain": [
       "<Figure size 1200x400 with 2 Axes>"
      ]
     },
     "metadata": {},
     "output_type": "display_data"
    }
   ],
   "source": [
    "acc = history.history['accuracy']\n",
    "val_acc = history.history['val_accuracy']\n",
    "\n",
    "loss = history.history['loss']\n",
    "val_loss = history.history['val_loss']\n",
    "\n",
    "plt.figure(figsize=(12, 4))\n",
    "plt.subplot(1, 2, 1)\n",
    "plt.plot(acc, label='Training Accuracy')\n",
    "plt.plot(val_acc, label='Validation Accuracy')\n",
    "plt.legend()\n",
    "plt.title(\"Accuracy\")\n",
    "\n",
    "plt.subplot(1, 2, 2)\n",
    "plt.plot(loss, label='Training Loss')\n",
    "plt.plot(val_loss, label='Validation Loss')\n",
    "plt.legend()\n",
    "plt.title(\"Loss\")\n",
    "\n",
    "plt.show()\n"
   ]
  },
  {
   "cell_type": "markdown",
   "metadata": {},
   "source": [
    "**Fine-tune the model**"
   ]
  }
 ],
 "metadata": {
  "kaggle": {
   "accelerator": "nvidiaTeslaT4",
   "dataSources": [
    {
     "datasetId": 1170109,
     "sourceId": 1960165,
     "sourceType": "datasetVersion"
    }
   ],
   "dockerImageVersionId": 31041,
   "isGpuEnabled": true,
   "isInternetEnabled": false,
   "language": "python",
   "sourceType": "notebook"
  },
  "kernelspec": {
   "display_name": "Python 3",
   "language": "python",
   "name": "python3"
  },
  "language_info": {
   "codemirror_mode": {
    "name": "ipython",
    "version": 3
   },
   "file_extension": ".py",
   "mimetype": "text/x-python",
   "name": "python",
   "nbconvert_exporter": "python",
   "pygments_lexer": "ipython3",
   "version": "3.11.9"
  }
 },
 "nbformat": 4,
 "nbformat_minor": 4
}
