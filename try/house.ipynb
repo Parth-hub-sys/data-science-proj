{
 "cells": [
  {
   "cell_type": "code",
   "execution_count": 1,
   "id": "7799dd92",
   "metadata": {},
   "outputs": [],
   "source": [
    "import pandas as pd\n",
    "from sklearn.model_selection import train_test_split"
   ]
  },
  {
   "cell_type": "code",
   "execution_count": 2,
   "id": "98e9e7f3",
   "metadata": {},
   "outputs": [
    {
     "data": {
      "text/html": [
       "<div>\n",
       "<style scoped>\n",
       "    .dataframe tbody tr th:only-of-type {\n",
       "        vertical-align: middle;\n",
       "    }\n",
       "\n",
       "    .dataframe tbody tr th {\n",
       "        vertical-align: top;\n",
       "    }\n",
       "\n",
       "    .dataframe thead th {\n",
       "        text-align: right;\n",
       "    }\n",
       "</style>\n",
       "<table border=\"1\" class=\"dataframe\">\n",
       "  <thead>\n",
       "    <tr style=\"text-align: right;\">\n",
       "      <th></th>\n",
       "      <th>LotArea</th>\n",
       "      <th>YearBuilt</th>\n",
       "      <th>1stFlrSF</th>\n",
       "      <th>2ndFlrSF</th>\n",
       "      <th>FullBath</th>\n",
       "      <th>BedroomAbvGr</th>\n",
       "      <th>TotRmsAbvGrd</th>\n",
       "      <th>SalePrice</th>\n",
       "    </tr>\n",
       "  </thead>\n",
       "  <tbody>\n",
       "    <tr>\n",
       "      <th>0</th>\n",
       "      <td>12270</td>\n",
       "      <td>1920</td>\n",
       "      <td>1080</td>\n",
       "      <td>93</td>\n",
       "      <td>3</td>\n",
       "      <td>1</td>\n",
       "      <td>10</td>\n",
       "      <td>183630</td>\n",
       "    </tr>\n",
       "    <tr>\n",
       "      <th>1</th>\n",
       "      <td>5860</td>\n",
       "      <td>1943</td>\n",
       "      <td>1320</td>\n",
       "      <td>1431</td>\n",
       "      <td>1</td>\n",
       "      <td>2</td>\n",
       "      <td>10</td>\n",
       "      <td>326652</td>\n",
       "    </tr>\n",
       "    <tr>\n",
       "      <th>2</th>\n",
       "      <td>10390</td>\n",
       "      <td>1918</td>\n",
       "      <td>1747</td>\n",
       "      <td>1123</td>\n",
       "      <td>3</td>\n",
       "      <td>1</td>\n",
       "      <td>8</td>\n",
       "      <td>362935</td>\n",
       "    </tr>\n",
       "    <tr>\n",
       "      <th>3</th>\n",
       "      <td>18418</td>\n",
       "      <td>1970</td>\n",
       "      <td>623</td>\n",
       "      <td>243</td>\n",
       "      <td>2</td>\n",
       "      <td>2</td>\n",
       "      <td>4</td>\n",
       "      <td>122923</td>\n",
       "    </tr>\n",
       "    <tr>\n",
       "      <th>4</th>\n",
       "      <td>10191</td>\n",
       "      <td>2001</td>\n",
       "      <td>843</td>\n",
       "      <td>57</td>\n",
       "      <td>2</td>\n",
       "      <td>3</td>\n",
       "      <td>11</td>\n",
       "      <td>139621</td>\n",
       "    </tr>\n",
       "  </tbody>\n",
       "</table>\n",
       "</div>"
      ],
      "text/plain": [
       "   LotArea  YearBuilt  1stFlrSF  2ndFlrSF  FullBath  BedroomAbvGr  \\\n",
       "0    12270       1920      1080        93         3             1   \n",
       "1     5860       1943      1320      1431         1             2   \n",
       "2    10390       1918      1747      1123         3             1   \n",
       "3    18418       1970       623       243         2             2   \n",
       "4    10191       2001       843        57         2             3   \n",
       "\n",
       "   TotRmsAbvGrd  SalePrice  \n",
       "0            10     183630  \n",
       "1            10     326652  \n",
       "2             8     362935  \n",
       "3             4     122923  \n",
       "4            11     139621  "
      ]
     },
     "execution_count": 2,
     "metadata": {},
     "output_type": "execute_result"
    }
   ],
   "source": [
    "data = pd.read_csv('./train.csv')\n",
    "data.head()"
   ]
  },
  {
   "cell_type": "code",
   "execution_count": 3,
   "id": "79a3535f",
   "metadata": {},
   "outputs": [],
   "source": [
    "y = data['SalePrice']\n",
    "\n",
    "x = data.drop(['SalePrice'], axis=1)\n"
   ]
  },
  {
   "cell_type": "code",
   "execution_count": 4,
   "id": "d8270bce",
   "metadata": {},
   "outputs": [],
   "source": [
    "from sklearn.ensemble import RandomForestRegressor\n",
    "x_train,x_valid,y_train,y_valid = train_test_split(x,y,train_size=0.8,random_state=0)\n"
   ]
  },
  {
   "cell_type": "code",
   "execution_count": 5,
   "id": "63595735",
   "metadata": {},
   "outputs": [],
   "source": [
    "model = RandomForestRegressor(n_estimators=100, random_state=0)\n",
    "model.fit(x_train,y_train)\n",
    "preds = model.predict(x_valid)\n"
   ]
  },
  {
   "cell_type": "code",
   "execution_count": 6,
   "id": "87a1d4fb",
   "metadata": {},
   "outputs": [],
   "source": [
    "from sklearn.metrics import mean_absolute_error\n",
    "mae = mean_absolute_error(y_valid, preds)"
   ]
  },
  {
   "cell_type": "code",
   "execution_count": 7,
   "id": "6f20cf37",
   "metadata": {},
   "outputs": [
    {
     "name": "stdout",
     "output_type": "stream",
     "text": [
      "Mean Absolute Error: 9214.789354166667\n"
     ]
    }
   ],
   "source": [
    "print(\"Mean Absolute Error:\", mae)"
   ]
  },
  {
   "cell_type": "code",
   "execution_count": 8,
   "id": "7942af7d",
   "metadata": {},
   "outputs": [
    {
     "name": "stdout",
     "output_type": "stream",
     "text": [
      "Model RandomForestRegressor - Mean Absolute Error: 9275.905749999998\n",
      "Model RandomForestRegressor - Mean Absolute Error: 9214.789354166667\n",
      "Model RandomForestRegressor - Mean Absolute Error: 9263.232775000002\n",
      "Model RandomForestRegressor - Mean Absolute Error: 9315.727426338046\n",
      "Model RandomForestRegressor - Mean Absolute Error: 10367.853664637087\n"
     ]
    }
   ],
   "source": [
    "from sklearn.ensemble import RandomForestRegressor\n",
    "mmodel1 = RandomForestRegressor(n_estimators=50, random_state=0)\n",
    "mmodel2 = RandomForestRegressor(n_estimators=100, random_state=0)\n",
    "mmodel3 = RandomForestRegressor(n_estimators=100, random_state=0, criterion='absolute_error')\n",
    "mmodel4 = RandomForestRegressor(n_estimators=200,min_samples_split=20, random_state=0)\n",
    "mmodel5 = RandomForestRegressor(n_estimators=50,max_depth=7 ,random_state=0)\n",
    "\n",
    "models = [mmodel1, mmodel2, mmodel3, mmodel4, mmodel5]\n",
    "for model in models:\n",
    "    model.fit(x_train, y_train)\n",
    "    preds = model.predict(x_valid)\n",
    "    mae = mean_absolute_error(y_valid, preds)\n",
    "    print(f\"Model {model.__class__.__name__} - Mean Absolute Error: {mae}\")"
   ]
  },
  {
   "cell_type": "code",
   "execution_count": 18,
   "id": "3ef3092a",
   "metadata": {},
   "outputs": [
    {
     "name": "stdout",
     "output_type": "stream",
     "text": [
      "LotArea         0\n",
      "YearBuilt       0\n",
      "1stFlrSF        0\n",
      "2ndFlrSF        0\n",
      "FullBath        0\n",
      "BedroomAbvGr    0\n",
      "TotRmsAbvGrd    0\n",
      "dtype: int64\n"
     ]
    }
   ],
   "source": [
    "print(x.isnull().sum())"
   ]
  },
  {
   "cell_type": "code",
   "execution_count": 10,
   "id": "0c89b2e9",
   "metadata": {},
   "outputs": [],
   "source": [
    "from sklearn.ensemble import RandomForestRegressor\n",
    "from sklearn.pipeline import Pipeline\n",
    "from sklearn.impute import SimpleImputer\n",
    "\n",
    "my_pipe = Pipeline(steps=[\n",
    "    ('preprocessor',SimpleImputer()),\n",
    "    ('model',RandomForestRegressor(n_estimators=100,random_state=0))\n",
    "])"
   ]
  },
  {
   "cell_type": "code",
   "execution_count": 11,
   "id": "3d2e6e94",
   "metadata": {},
   "outputs": [
    {
     "name": "stdout",
     "output_type": "stream",
     "text": [
      "Mean absolute error: 9040.57 (128.01)\n"
     ]
    }
   ],
   "source": [
    "from sklearn.model_selection import cross_val_score\n",
    "scores = -1*cross_val_score(my_pipe,x,y,scoring='neg_mean_absolute_error',cv=5)\n",
    "print(f'Mean absolute error: {scores.mean():.2f} ({scores.std():.2f})')"
   ]
  },
  {
   "cell_type": "code",
   "execution_count": 12,
   "id": "ebbd387d",
   "metadata": {},
   "outputs": [],
   "source": [
    "def get_score(n_estimators):\n",
    "    my_pipe = Pipeline(steps = [\n",
    "        ('preprocessor',SimpleImputer()),\n",
    "        ('model',RandomForestRegressor(n_estimators=n_estimators,random_state=0))\n",
    "    ])\n",
    "    \n",
    "    score = -1*cross_val_score(my_pipe, x, y, scoring='neg_mean_absolute_error', cv=3)\n",
    "    return score.mean()"
   ]
  },
  {
   "cell_type": "code",
   "execution_count": 13,
   "id": "d5a71602",
   "metadata": {},
   "outputs": [],
   "source": [
    "results = {}\n",
    "\n",
    "for i in range(1,9):\n",
    "    results[i*50] = get_score(i*50)"
   ]
  },
  {
   "cell_type": "code",
   "execution_count": 14,
   "id": "b80d38e1",
   "metadata": {},
   "outputs": [
    {
     "data": {
      "text/plain": [
       "[<matplotlib.lines.Line2D at 0x229865fb3e0>]"
      ]
     },
     "execution_count": 14,
     "metadata": {},
     "output_type": "execute_result"
    },
    {
     "data": {
      "image/png": "[encoded data removed]",
      "text/plain": [
       "<Figure size 640x480 with 1 Axes>"
      ]
     },
     "metadata": {},
     "output_type": "display_data"
    }
   ],
   "source": [
    "import matplotlib.pyplot as plt\n",
    "plt.plot(list(results.keys()), list(results.values()))"
   ]
  },
  {
   "cell_type": "code",
   "execution_count": 21,
   "id": "e66ff169",
   "metadata": {},
   "outputs": [
    {
     "data": {
      "text/plain": [
       "400"
      ]
     },
     "execution_count": 21,
     "metadata": {},
     "output_type": "execute_result"
    }
   ],
   "source": [
    "best = min(results,key=results.get)\n",
    "best"
   ]
  },
  {
   "cell_type": "code",
   "execution_count": 23,
   "id": "2f9d8bb7",
   "metadata": {},
   "outputs": [],
   "source": [
    "final_pipe = Pipeline(steps=[\n",
    "    ('preprocessor',SimpleImputer()),\n",
    "    ('model',RandomForestRegressor(n_estimators=best, random_state=0))\n",
    "])\n",
    "\n",
    "final_pipe.fit(x,y)\n",
    "preds = final_pipe.predict(x)"
   ]
  },
  {
   "cell_type": "code",
   "execution_count": 25,
   "id": "9441b084",
   "metadata": {},
   "outputs": [
    {
     "name": "stdout",
     "output_type": "stream",
     "text": [
      "Submission saved to 'submission.csv'.\n"
     ]
    }
   ],
   "source": [
    "output = pd.DataFrame({'id':x.index ,'SalePrice': preds})\n",
    "output.to_csv('submission.csv', index=False)\n",
    "print(\"Submission saved to 'submission.csv'.\")"
   ]
  },
  {
   "cell_type": "code",
   "execution_count": null,
   "id": "110da1a0",
   "metadata": {},
   "outputs": [],
   "source": []
  }
 ],
 "metadata": {
  "kernelspec": {
   "display_name": "base",
   "language": "python",
   "name": "python3"
  },
  "language_info": {
   "codemirror_mode": {
    "name": "ipython",
    "version": 3
   },
   "file_extension": ".py",
   "mimetype": "text/x-python",
   "name": "python",
   "nbconvert_exporter": "python",
   "pygments_lexer": "ipython3",
   "version": "3.12.7"
  }
 },
 "nbformat": 4,
 "nbformat_minor": 5
}
